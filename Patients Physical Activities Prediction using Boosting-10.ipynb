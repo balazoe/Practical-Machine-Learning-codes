{
 "cells": [
  {
   "cell_type": "markdown",
   "id": "d8c7bcc3",
   "metadata": {},
   "source": [
    "# Lab-10:Patients Physical Activities Prediction using Boosting"
   ]
  },
  {
   "cell_type": "markdown",
   "id": "842a683a",
   "metadata": {},
   "source": [
    "## NAME : BALA MURUGAN P"
   ]
  },
  {
   "cell_type": "markdown",
   "id": "1dfbc4c4",
   "metadata": {},
   "source": [
    "## Roll No:225229150"
   ]
  },
  {
   "cell_type": "code",
   "execution_count": 1,
   "id": "8b8332fe",
   "metadata": {},
   "outputs": [],
   "source": [
    "import pandas as pd\n",
    "from sklearn.model_selection import train_test_split\n",
    "import warnings\n",
    "warnings.filterwarnings('ignore')\n",
    "from sklearn.metrics import precision_score, recall_score,accuracy_score,roc_auc_score,classification_report\n",
    "from sklearn.ensemble import GradientBoostingClassifier,AdaBoostClassifier\n",
    "from sklearn.model_selection import GridSearchCV\n",
    "from sklearn.linear_model import LogisticRegressionCV\n",
    "from sklearn.ensemble import RandomForestClassifier, VotingClassifier\n",
    "from sklearn.tree import DecisionTreeClassifier\n",
    "from sklearn.model_selection import cross_val_score"
   ]
  },
  {
   "cell_type": "markdown",
   "id": "0ec03178",
   "metadata": {},
   "source": [
    "#### Step-1: [Understand Data]\n"
   ]
  },
  {
   "cell_type": "code",
   "execution_count": 2,
   "id": "e39ccb19",
   "metadata": {},
   "outputs": [
    {
     "data": {
      "text/html": [
       "<div>\n",
       "<style scoped>\n",
       "    .dataframe tbody tr th:only-of-type {\n",
       "        vertical-align: middle;\n",
       "    }\n",
       "\n",
       "    .dataframe tbody tr th {\n",
       "        vertical-align: top;\n",
       "    }\n",
       "\n",
       "    .dataframe thead th {\n",
       "        text-align: right;\n",
       "    }\n",
       "</style>\n",
       "<table border=\"1\" class=\"dataframe\">\n",
       "  <thead>\n",
       "    <tr style=\"text-align: right;\">\n",
       "      <th></th>\n",
       "      <th>tBodyAcc-mean()-X</th>\n",
       "      <th>tBodyAcc-mean()-Y</th>\n",
       "      <th>tBodyAcc-mean()-Z</th>\n",
       "      <th>tBodyAcc-std()-X</th>\n",
       "      <th>tBodyAcc-std()-Y</th>\n",
       "      <th>tBodyAcc-std()-Z</th>\n",
       "      <th>tBodyAcc-mad()-X</th>\n",
       "      <th>tBodyAcc-mad()-Y</th>\n",
       "      <th>tBodyAcc-mad()-Z</th>\n",
       "      <th>tBodyAcc-max()-X</th>\n",
       "      <th>...</th>\n",
       "      <th>fBodyBodyGyroJerkMag-skewness()</th>\n",
       "      <th>fBodyBodyGyroJerkMag-kurtosis()</th>\n",
       "      <th>angle(tBodyAccMean,gravity)</th>\n",
       "      <th>angle(tBodyAccJerkMean),gravityMean)</th>\n",
       "      <th>angle(tBodyGyroMean,gravityMean)</th>\n",
       "      <th>angle(tBodyGyroJerkMean,gravityMean)</th>\n",
       "      <th>angle(X,gravityMean)</th>\n",
       "      <th>angle(Y,gravityMean)</th>\n",
       "      <th>angle(Z,gravityMean)</th>\n",
       "      <th>Activity</th>\n",
       "    </tr>\n",
       "  </thead>\n",
       "  <tbody>\n",
       "    <tr>\n",
       "      <th>0</th>\n",
       "      <td>0.288585</td>\n",
       "      <td>-0.020294</td>\n",
       "      <td>-0.132905</td>\n",
       "      <td>-0.995279</td>\n",
       "      <td>-0.983111</td>\n",
       "      <td>-0.913526</td>\n",
       "      <td>-0.995112</td>\n",
       "      <td>-0.983185</td>\n",
       "      <td>-0.923527</td>\n",
       "      <td>-0.934724</td>\n",
       "      <td>...</td>\n",
       "      <td>-0.298676</td>\n",
       "      <td>-0.710304</td>\n",
       "      <td>-0.112754</td>\n",
       "      <td>0.030400</td>\n",
       "      <td>-0.464761</td>\n",
       "      <td>-0.018446</td>\n",
       "      <td>-0.841247</td>\n",
       "      <td>0.179941</td>\n",
       "      <td>-0.058627</td>\n",
       "      <td>STANDING</td>\n",
       "    </tr>\n",
       "    <tr>\n",
       "      <th>1</th>\n",
       "      <td>0.278419</td>\n",
       "      <td>-0.016411</td>\n",
       "      <td>-0.123520</td>\n",
       "      <td>-0.998245</td>\n",
       "      <td>-0.975300</td>\n",
       "      <td>-0.960322</td>\n",
       "      <td>-0.998807</td>\n",
       "      <td>-0.974914</td>\n",
       "      <td>-0.957686</td>\n",
       "      <td>-0.943068</td>\n",
       "      <td>...</td>\n",
       "      <td>-0.595051</td>\n",
       "      <td>-0.861499</td>\n",
       "      <td>0.053477</td>\n",
       "      <td>-0.007435</td>\n",
       "      <td>-0.732626</td>\n",
       "      <td>0.703511</td>\n",
       "      <td>-0.844788</td>\n",
       "      <td>0.180289</td>\n",
       "      <td>-0.054317</td>\n",
       "      <td>STANDING</td>\n",
       "    </tr>\n",
       "    <tr>\n",
       "      <th>2</th>\n",
       "      <td>0.279653</td>\n",
       "      <td>-0.019467</td>\n",
       "      <td>-0.113462</td>\n",
       "      <td>-0.995380</td>\n",
       "      <td>-0.967187</td>\n",
       "      <td>-0.978944</td>\n",
       "      <td>-0.996520</td>\n",
       "      <td>-0.963668</td>\n",
       "      <td>-0.977469</td>\n",
       "      <td>-0.938692</td>\n",
       "      <td>...</td>\n",
       "      <td>-0.390748</td>\n",
       "      <td>-0.760104</td>\n",
       "      <td>-0.118559</td>\n",
       "      <td>0.177899</td>\n",
       "      <td>0.100699</td>\n",
       "      <td>0.808529</td>\n",
       "      <td>-0.848933</td>\n",
       "      <td>0.180637</td>\n",
       "      <td>-0.049118</td>\n",
       "      <td>STANDING</td>\n",
       "    </tr>\n",
       "    <tr>\n",
       "      <th>3</th>\n",
       "      <td>0.279174</td>\n",
       "      <td>-0.026201</td>\n",
       "      <td>-0.123283</td>\n",
       "      <td>-0.996091</td>\n",
       "      <td>-0.983403</td>\n",
       "      <td>-0.990675</td>\n",
       "      <td>-0.997099</td>\n",
       "      <td>-0.982750</td>\n",
       "      <td>-0.989302</td>\n",
       "      <td>-0.938692</td>\n",
       "      <td>...</td>\n",
       "      <td>-0.117290</td>\n",
       "      <td>-0.482845</td>\n",
       "      <td>-0.036788</td>\n",
       "      <td>-0.012892</td>\n",
       "      <td>0.640011</td>\n",
       "      <td>-0.485366</td>\n",
       "      <td>-0.848649</td>\n",
       "      <td>0.181935</td>\n",
       "      <td>-0.047663</td>\n",
       "      <td>STANDING</td>\n",
       "    </tr>\n",
       "    <tr>\n",
       "      <th>4</th>\n",
       "      <td>0.276629</td>\n",
       "      <td>-0.016570</td>\n",
       "      <td>-0.115362</td>\n",
       "      <td>-0.998139</td>\n",
       "      <td>-0.980817</td>\n",
       "      <td>-0.990482</td>\n",
       "      <td>-0.998321</td>\n",
       "      <td>-0.979672</td>\n",
       "      <td>-0.990441</td>\n",
       "      <td>-0.942469</td>\n",
       "      <td>...</td>\n",
       "      <td>-0.351471</td>\n",
       "      <td>-0.699205</td>\n",
       "      <td>0.123320</td>\n",
       "      <td>0.122542</td>\n",
       "      <td>0.693578</td>\n",
       "      <td>-0.615971</td>\n",
       "      <td>-0.847865</td>\n",
       "      <td>0.185151</td>\n",
       "      <td>-0.043892</td>\n",
       "      <td>STANDING</td>\n",
       "    </tr>\n",
       "  </tbody>\n",
       "</table>\n",
       "<p>5 rows × 562 columns</p>\n",
       "</div>"
      ],
      "text/plain": [
       "   tBodyAcc-mean()-X  tBodyAcc-mean()-Y  tBodyAcc-mean()-Z  tBodyAcc-std()-X  \\\n",
       "0           0.288585          -0.020294          -0.132905         -0.995279   \n",
       "1           0.278419          -0.016411          -0.123520         -0.998245   \n",
       "2           0.279653          -0.019467          -0.113462         -0.995380   \n",
       "3           0.279174          -0.026201          -0.123283         -0.996091   \n",
       "4           0.276629          -0.016570          -0.115362         -0.998139   \n",
       "\n",
       "   tBodyAcc-std()-Y  tBodyAcc-std()-Z  tBodyAcc-mad()-X  tBodyAcc-mad()-Y  \\\n",
       "0         -0.983111         -0.913526         -0.995112         -0.983185   \n",
       "1         -0.975300         -0.960322         -0.998807         -0.974914   \n",
       "2         -0.967187         -0.978944         -0.996520         -0.963668   \n",
       "3         -0.983403         -0.990675         -0.997099         -0.982750   \n",
       "4         -0.980817         -0.990482         -0.998321         -0.979672   \n",
       "\n",
       "   tBodyAcc-mad()-Z  tBodyAcc-max()-X  ...  fBodyBodyGyroJerkMag-skewness()  \\\n",
       "0         -0.923527         -0.934724  ...                        -0.298676   \n",
       "1         -0.957686         -0.943068  ...                        -0.595051   \n",
       "2         -0.977469         -0.938692  ...                        -0.390748   \n",
       "3         -0.989302         -0.938692  ...                        -0.117290   \n",
       "4         -0.990441         -0.942469  ...                        -0.351471   \n",
       "\n",
       "   fBodyBodyGyroJerkMag-kurtosis()  angle(tBodyAccMean,gravity)  \\\n",
       "0                        -0.710304                    -0.112754   \n",
       "1                        -0.861499                     0.053477   \n",
       "2                        -0.760104                    -0.118559   \n",
       "3                        -0.482845                    -0.036788   \n",
       "4                        -0.699205                     0.123320   \n",
       "\n",
       "   angle(tBodyAccJerkMean),gravityMean)  angle(tBodyGyroMean,gravityMean)  \\\n",
       "0                              0.030400                         -0.464761   \n",
       "1                             -0.007435                         -0.732626   \n",
       "2                              0.177899                          0.100699   \n",
       "3                             -0.012892                          0.640011   \n",
       "4                              0.122542                          0.693578   \n",
       "\n",
       "   angle(tBodyGyroJerkMean,gravityMean)  angle(X,gravityMean)  \\\n",
       "0                             -0.018446             -0.841247   \n",
       "1                              0.703511             -0.844788   \n",
       "2                              0.808529             -0.848933   \n",
       "3                             -0.485366             -0.848649   \n",
       "4                             -0.615971             -0.847865   \n",
       "\n",
       "   angle(Y,gravityMean)  angle(Z,gravityMean)  Activity  \n",
       "0              0.179941             -0.058627  STANDING  \n",
       "1              0.180289             -0.054317  STANDING  \n",
       "2              0.180637             -0.049118  STANDING  \n",
       "3              0.181935             -0.047663  STANDING  \n",
       "4              0.185151             -0.043892  STANDING  \n",
       "\n",
       "[5 rows x 562 columns]"
      ]
     },
     "execution_count": 2,
     "metadata": {},
     "output_type": "execute_result"
    }
   ],
   "source": [
    "HA=pd.read_csv(\"Human_Activity_Data.csv\")\n",
    "HA.head()"
   ]
  },
  {
   "cell_type": "code",
   "execution_count": 3,
   "id": "3120bba4",
   "metadata": {},
   "outputs": [
    {
     "data": {
      "text/plain": [
       "(10299, 562)"
      ]
     },
     "execution_count": 3,
     "metadata": {},
     "output_type": "execute_result"
    }
   ],
   "source": [
    "HA.shape"
   ]
  },
  {
   "cell_type": "code",
   "execution_count": 4,
   "id": "a808e0d4",
   "metadata": {},
   "outputs": [
    {
     "data": {
      "text/plain": [
       "5788038"
      ]
     },
     "execution_count": 4,
     "metadata": {},
     "output_type": "execute_result"
    }
   ],
   "source": [
    "HA.size"
   ]
  },
  {
   "cell_type": "code",
   "execution_count": 5,
   "id": "f9db5bdf",
   "metadata": {},
   "outputs": [
    {
     "name": "stdout",
     "output_type": "stream",
     "text": [
      "<class 'pandas.core.frame.DataFrame'>\n",
      "RangeIndex: 10299 entries, 0 to 10298\n",
      "Columns: 562 entries, tBodyAcc-mean()-X to Activity\n",
      "dtypes: float64(561), object(1)\n",
      "memory usage: 44.2+ MB\n"
     ]
    }
   ],
   "source": [
    "HA.info()"
   ]
  },
  {
   "cell_type": "code",
   "execution_count": 6,
   "id": "a701f04e",
   "metadata": {},
   "outputs": [
    {
     "data": {
      "text/plain": [
       "Index(['tBodyAcc-mean()-X', 'tBodyAcc-mean()-Y', 'tBodyAcc-mean()-Z',\n",
       "       'tBodyAcc-std()-X', 'tBodyAcc-std()-Y', 'tBodyAcc-std()-Z',\n",
       "       'tBodyAcc-mad()-X', 'tBodyAcc-mad()-Y', 'tBodyAcc-mad()-Z',\n",
       "       'tBodyAcc-max()-X',\n",
       "       ...\n",
       "       'fBodyBodyGyroJerkMag-skewness()', 'fBodyBodyGyroJerkMag-kurtosis()',\n",
       "       'angle(tBodyAccMean,gravity)', 'angle(tBodyAccJerkMean),gravityMean)',\n",
       "       'angle(tBodyGyroMean,gravityMean)',\n",
       "       'angle(tBodyGyroJerkMean,gravityMean)', 'angle(X,gravityMean)',\n",
       "       'angle(Y,gravityMean)', 'angle(Z,gravityMean)', 'Activity'],\n",
       "      dtype='object', length=562)"
      ]
     },
     "execution_count": 6,
     "metadata": {},
     "output_type": "execute_result"
    }
   ],
   "source": [
    "HA.columns"
   ]
  },
  {
   "cell_type": "code",
   "execution_count": 7,
   "id": "acff56d3",
   "metadata": {},
   "outputs": [
    {
     "data": {
      "text/plain": [
       "<bound method IndexOpsMixin.value_counts of 0       -0.058627\n",
       "1       -0.054317\n",
       "2       -0.049118\n",
       "3       -0.047663\n",
       "4       -0.043892\n",
       "           ...   \n",
       "10294    0.184784\n",
       "10295    0.182412\n",
       "10296    0.181184\n",
       "10297    0.187563\n",
       "10298    0.188103\n",
       "Name: angle(Z,gravityMean), Length: 10299, dtype: float64>"
      ]
     },
     "execution_count": 7,
     "metadata": {},
     "output_type": "execute_result"
    }
   ],
   "source": [
    "HA['angle(Z,gravityMean)'].value_counts"
   ]
  },
  {
   "cell_type": "markdown",
   "id": "4a8b5439",
   "metadata": {},
   "source": [
    "#### Step-2: [Build a small Dataset"
   ]
  },
  {
   "cell_type": "code",
   "execution_count": 8,
   "id": "974ed712",
   "metadata": {},
   "outputs": [],
   "source": [
    "import numpy as np\n",
    "a=HA[HA['Activity']=='LAYING'].head(500)\n",
    "b=HA[HA['Activity']=='SITTING'].head(500)\n",
    "c=HA[HA['Activity']=='WALKING'].head(500)"
   ]
  },
  {
   "cell_type": "code",
   "execution_count": 9,
   "id": "03bab6b4",
   "metadata": {},
   "outputs": [],
   "source": [
    "newdf=pd.concat([a,b,c])"
   ]
  },
  {
   "cell_type": "code",
   "execution_count": 10,
   "id": "ebbdb147",
   "metadata": {},
   "outputs": [
    {
     "data": {
      "text/plain": [
       "(1500, 562)"
      ]
     },
     "execution_count": 10,
     "metadata": {},
     "output_type": "execute_result"
    }
   ],
   "source": [
    "newdf.shape"
   ]
  },
  {
   "cell_type": "code",
   "execution_count": 11,
   "id": "c4c8206b",
   "metadata": {},
   "outputs": [],
   "source": [
    "newdf.to_csv(\"Human_Activity_new.csv\")"
   ]
  },
  {
   "cell_type": "markdown",
   "id": "3b5723a8",
   "metadata": {},
   "source": [
    "#### Step-3: [Build GradientBoostingClassifier]"
   ]
  },
  {
   "cell_type": "code",
   "execution_count": 12,
   "id": "59627403",
   "metadata": {},
   "outputs": [],
   "source": [
    "df = pd.read_csv(\"Human_Activity_new.csv\")"
   ]
  },
  {
   "cell_type": "code",
   "execution_count": 13,
   "id": "a2879196",
   "metadata": {},
   "outputs": [
    {
     "data": {
      "text/html": [
       "<div>\n",
       "<style scoped>\n",
       "    .dataframe tbody tr th:only-of-type {\n",
       "        vertical-align: middle;\n",
       "    }\n",
       "\n",
       "    .dataframe tbody tr th {\n",
       "        vertical-align: top;\n",
       "    }\n",
       "\n",
       "    .dataframe thead th {\n",
       "        text-align: right;\n",
       "    }\n",
       "</style>\n",
       "<table border=\"1\" class=\"dataframe\">\n",
       "  <thead>\n",
       "    <tr style=\"text-align: right;\">\n",
       "      <th></th>\n",
       "      <th>Unnamed: 0</th>\n",
       "      <th>tBodyAcc-mean()-X</th>\n",
       "      <th>tBodyAcc-mean()-Y</th>\n",
       "      <th>tBodyAcc-mean()-Z</th>\n",
       "      <th>tBodyAcc-std()-X</th>\n",
       "      <th>tBodyAcc-std()-Y</th>\n",
       "      <th>tBodyAcc-std()-Z</th>\n",
       "      <th>tBodyAcc-mad()-X</th>\n",
       "      <th>tBodyAcc-mad()-Y</th>\n",
       "      <th>tBodyAcc-mad()-Z</th>\n",
       "      <th>...</th>\n",
       "      <th>fBodyBodyGyroJerkMag-skewness()</th>\n",
       "      <th>fBodyBodyGyroJerkMag-kurtosis()</th>\n",
       "      <th>angle(tBodyAccMean,gravity)</th>\n",
       "      <th>angle(tBodyAccJerkMean),gravityMean)</th>\n",
       "      <th>angle(tBodyGyroMean,gravityMean)</th>\n",
       "      <th>angle(tBodyGyroJerkMean,gravityMean)</th>\n",
       "      <th>angle(X,gravityMean)</th>\n",
       "      <th>angle(Y,gravityMean)</th>\n",
       "      <th>angle(Z,gravityMean)</th>\n",
       "      <th>Activity</th>\n",
       "    </tr>\n",
       "  </thead>\n",
       "  <tbody>\n",
       "    <tr>\n",
       "      <th>0</th>\n",
       "      <td>51</td>\n",
       "      <td>0.403474</td>\n",
       "      <td>-0.015074</td>\n",
       "      <td>-0.118167</td>\n",
       "      <td>-0.914811</td>\n",
       "      <td>-0.895231</td>\n",
       "      <td>-0.891748</td>\n",
       "      <td>-0.917696</td>\n",
       "      <td>-0.924624</td>\n",
       "      <td>-0.905895</td>\n",
       "      <td>...</td>\n",
       "      <td>0.383907</td>\n",
       "      <td>-0.021764</td>\n",
       "      <td>-0.068580</td>\n",
       "      <td>-0.043105</td>\n",
       "      <td>-0.332249</td>\n",
       "      <td>0.487505</td>\n",
       "      <td>0.432479</td>\n",
       "      <td>-0.553351</td>\n",
       "      <td>-0.432876</td>\n",
       "      <td>LAYING</td>\n",
       "    </tr>\n",
       "    <tr>\n",
       "      <th>1</th>\n",
       "      <td>52</td>\n",
       "      <td>0.278373</td>\n",
       "      <td>-0.020561</td>\n",
       "      <td>-0.096825</td>\n",
       "      <td>-0.984883</td>\n",
       "      <td>-0.991118</td>\n",
       "      <td>-0.982112</td>\n",
       "      <td>-0.987985</td>\n",
       "      <td>-0.990362</td>\n",
       "      <td>-0.982189</td>\n",
       "      <td>...</td>\n",
       "      <td>-0.687636</td>\n",
       "      <td>-0.912512</td>\n",
       "      <td>-0.113048</td>\n",
       "      <td>0.223038</td>\n",
       "      <td>-0.393075</td>\n",
       "      <td>0.359037</td>\n",
       "      <td>0.399853</td>\n",
       "      <td>-0.550364</td>\n",
       "      <td>-0.427593</td>\n",
       "      <td>LAYING</td>\n",
       "    </tr>\n",
       "    <tr>\n",
       "      <th>2</th>\n",
       "      <td>53</td>\n",
       "      <td>0.276555</td>\n",
       "      <td>-0.017869</td>\n",
       "      <td>-0.107621</td>\n",
       "      <td>-0.994195</td>\n",
       "      <td>-0.996372</td>\n",
       "      <td>-0.995615</td>\n",
       "      <td>-0.994901</td>\n",
       "      <td>-0.996360</td>\n",
       "      <td>-0.996628</td>\n",
       "      <td>...</td>\n",
       "      <td>-0.519084</td>\n",
       "      <td>-0.813040</td>\n",
       "      <td>0.293145</td>\n",
       "      <td>-0.018635</td>\n",
       "      <td>-0.246980</td>\n",
       "      <td>0.453923</td>\n",
       "      <td>0.399066</td>\n",
       "      <td>-0.546725</td>\n",
       "      <td>-0.431244</td>\n",
       "      <td>LAYING</td>\n",
       "    </tr>\n",
       "    <tr>\n",
       "      <th>3</th>\n",
       "      <td>54</td>\n",
       "      <td>0.279575</td>\n",
       "      <td>-0.017276</td>\n",
       "      <td>-0.109481</td>\n",
       "      <td>-0.996135</td>\n",
       "      <td>-0.995812</td>\n",
       "      <td>-0.998689</td>\n",
       "      <td>-0.996393</td>\n",
       "      <td>-0.995474</td>\n",
       "      <td>-0.999006</td>\n",
       "      <td>...</td>\n",
       "      <td>-0.855139</td>\n",
       "      <td>-0.984028</td>\n",
       "      <td>0.240526</td>\n",
       "      <td>0.149804</td>\n",
       "      <td>0.393611</td>\n",
       "      <td>0.386719</td>\n",
       "      <td>0.399555</td>\n",
       "      <td>-0.546477</td>\n",
       "      <td>-0.431646</td>\n",
       "      <td>LAYING</td>\n",
       "    </tr>\n",
       "    <tr>\n",
       "      <th>4</th>\n",
       "      <td>55</td>\n",
       "      <td>0.276527</td>\n",
       "      <td>-0.016819</td>\n",
       "      <td>-0.107983</td>\n",
       "      <td>-0.996775</td>\n",
       "      <td>-0.997256</td>\n",
       "      <td>-0.995422</td>\n",
       "      <td>-0.997167</td>\n",
       "      <td>-0.997108</td>\n",
       "      <td>-0.995739</td>\n",
       "      <td>...</td>\n",
       "      <td>-0.852171</td>\n",
       "      <td>-0.954254</td>\n",
       "      <td>-0.347519</td>\n",
       "      <td>-0.469155</td>\n",
       "      <td>0.308855</td>\n",
       "      <td>-0.354146</td>\n",
       "      <td>0.398889</td>\n",
       "      <td>-0.546712</td>\n",
       "      <td>-0.431207</td>\n",
       "      <td>LAYING</td>\n",
       "    </tr>\n",
       "  </tbody>\n",
       "</table>\n",
       "<p>5 rows × 563 columns</p>\n",
       "</div>"
      ],
      "text/plain": [
       "   Unnamed: 0  tBodyAcc-mean()-X  tBodyAcc-mean()-Y  tBodyAcc-mean()-Z  \\\n",
       "0          51           0.403474          -0.015074          -0.118167   \n",
       "1          52           0.278373          -0.020561          -0.096825   \n",
       "2          53           0.276555          -0.017869          -0.107621   \n",
       "3          54           0.279575          -0.017276          -0.109481   \n",
       "4          55           0.276527          -0.016819          -0.107983   \n",
       "\n",
       "   tBodyAcc-std()-X  tBodyAcc-std()-Y  tBodyAcc-std()-Z  tBodyAcc-mad()-X  \\\n",
       "0         -0.914811         -0.895231         -0.891748         -0.917696   \n",
       "1         -0.984883         -0.991118         -0.982112         -0.987985   \n",
       "2         -0.994195         -0.996372         -0.995615         -0.994901   \n",
       "3         -0.996135         -0.995812         -0.998689         -0.996393   \n",
       "4         -0.996775         -0.997256         -0.995422         -0.997167   \n",
       "\n",
       "   tBodyAcc-mad()-Y  tBodyAcc-mad()-Z  ...  fBodyBodyGyroJerkMag-skewness()  \\\n",
       "0         -0.924624         -0.905895  ...                         0.383907   \n",
       "1         -0.990362         -0.982189  ...                        -0.687636   \n",
       "2         -0.996360         -0.996628  ...                        -0.519084   \n",
       "3         -0.995474         -0.999006  ...                        -0.855139   \n",
       "4         -0.997108         -0.995739  ...                        -0.852171   \n",
       "\n",
       "   fBodyBodyGyroJerkMag-kurtosis()  angle(tBodyAccMean,gravity)  \\\n",
       "0                        -0.021764                    -0.068580   \n",
       "1                        -0.912512                    -0.113048   \n",
       "2                        -0.813040                     0.293145   \n",
       "3                        -0.984028                     0.240526   \n",
       "4                        -0.954254                    -0.347519   \n",
       "\n",
       "   angle(tBodyAccJerkMean),gravityMean)  angle(tBodyGyroMean,gravityMean)  \\\n",
       "0                             -0.043105                         -0.332249   \n",
       "1                              0.223038                         -0.393075   \n",
       "2                             -0.018635                         -0.246980   \n",
       "3                              0.149804                          0.393611   \n",
       "4                             -0.469155                          0.308855   \n",
       "\n",
       "   angle(tBodyGyroJerkMean,gravityMean)  angle(X,gravityMean)  \\\n",
       "0                              0.487505              0.432479   \n",
       "1                              0.359037              0.399853   \n",
       "2                              0.453923              0.399066   \n",
       "3                              0.386719              0.399555   \n",
       "4                             -0.354146              0.398889   \n",
       "\n",
       "   angle(Y,gravityMean)  angle(Z,gravityMean)  Activity  \n",
       "0             -0.553351             -0.432876    LAYING  \n",
       "1             -0.550364             -0.427593    LAYING  \n",
       "2             -0.546725             -0.431244    LAYING  \n",
       "3             -0.546477             -0.431646    LAYING  \n",
       "4             -0.546712             -0.431207    LAYING  \n",
       "\n",
       "[5 rows x 563 columns]"
      ]
     },
     "execution_count": 13,
     "metadata": {},
     "output_type": "execute_result"
    }
   ],
   "source": [
    "df.head()"
   ]
  },
  {
   "cell_type": "code",
   "execution_count": 14,
   "id": "09e413a5",
   "metadata": {},
   "outputs": [
    {
     "data": {
      "text/plain": [
       "(1500, 563)"
      ]
     },
     "execution_count": 14,
     "metadata": {},
     "output_type": "execute_result"
    }
   ],
   "source": [
    "df.shape"
   ]
  },
  {
   "cell_type": "code",
   "execution_count": 15,
   "id": "74c1f5a9",
   "metadata": {},
   "outputs": [
    {
     "data": {
      "text/plain": [
       "844500"
      ]
     },
     "execution_count": 15,
     "metadata": {},
     "output_type": "execute_result"
    }
   ],
   "source": [
    "df.size"
   ]
  },
  {
   "cell_type": "code",
   "execution_count": 16,
   "id": "9dd85d4f",
   "metadata": {},
   "outputs": [
    {
     "name": "stdout",
     "output_type": "stream",
     "text": [
      "<class 'pandas.core.frame.DataFrame'>\n",
      "RangeIndex: 1500 entries, 0 to 1499\n",
      "Columns: 563 entries, Unnamed: 0 to Activity\n",
      "dtypes: float64(561), int64(1), object(1)\n",
      "memory usage: 6.4+ MB\n"
     ]
    }
   ],
   "source": [
    "df.info()"
   ]
  },
  {
   "cell_type": "code",
   "execution_count": 17,
   "id": "2abfc849",
   "metadata": {},
   "outputs": [
    {
     "data": {
      "text/plain": [
       "Index(['Unnamed: 0', 'tBodyAcc-mean()-X', 'tBodyAcc-mean()-Y',\n",
       "       'tBodyAcc-mean()-Z', 'tBodyAcc-std()-X', 'tBodyAcc-std()-Y',\n",
       "       'tBodyAcc-std()-Z', 'tBodyAcc-mad()-X', 'tBodyAcc-mad()-Y',\n",
       "       'tBodyAcc-mad()-Z',\n",
       "       ...\n",
       "       'fBodyBodyGyroJerkMag-skewness()', 'fBodyBodyGyroJerkMag-kurtosis()',\n",
       "       'angle(tBodyAccMean,gravity)', 'angle(tBodyAccJerkMean),gravityMean)',\n",
       "       'angle(tBodyGyroMean,gravityMean)',\n",
       "       'angle(tBodyGyroJerkMean,gravityMean)', 'angle(X,gravityMean)',\n",
       "       'angle(Y,gravityMean)', 'angle(Z,gravityMean)', 'Activity'],\n",
       "      dtype='object', length=563)"
      ]
     },
     "execution_count": 17,
     "metadata": {},
     "output_type": "execute_result"
    }
   ],
   "source": [
    "df.columns"
   ]
  },
  {
   "cell_type": "code",
   "execution_count": 18,
   "id": "75c3633c",
   "metadata": {},
   "outputs": [
    {
     "data": {
      "text/html": [
       "<div>\n",
       "<style scoped>\n",
       "    .dataframe tbody tr th:only-of-type {\n",
       "        vertical-align: middle;\n",
       "    }\n",
       "\n",
       "    .dataframe tbody tr th {\n",
       "        vertical-align: top;\n",
       "    }\n",
       "\n",
       "    .dataframe thead th {\n",
       "        text-align: right;\n",
       "    }\n",
       "</style>\n",
       "<table border=\"1\" class=\"dataframe\">\n",
       "  <thead>\n",
       "    <tr style=\"text-align: right;\">\n",
       "      <th></th>\n",
       "      <th>Unnamed: 0</th>\n",
       "      <th>tBodyAcc-mean()-X</th>\n",
       "      <th>tBodyAcc-mean()-Y</th>\n",
       "      <th>tBodyAcc-mean()-Z</th>\n",
       "      <th>tBodyAcc-std()-X</th>\n",
       "      <th>tBodyAcc-std()-Y</th>\n",
       "      <th>tBodyAcc-std()-Z</th>\n",
       "      <th>tBodyAcc-mad()-X</th>\n",
       "      <th>tBodyAcc-mad()-Y</th>\n",
       "      <th>tBodyAcc-mad()-Z</th>\n",
       "      <th>...</th>\n",
       "      <th>fBodyBodyGyroJerkMag-meanFreq()</th>\n",
       "      <th>fBodyBodyGyroJerkMag-skewness()</th>\n",
       "      <th>fBodyBodyGyroJerkMag-kurtosis()</th>\n",
       "      <th>angle(tBodyAccMean,gravity)</th>\n",
       "      <th>angle(tBodyAccJerkMean),gravityMean)</th>\n",
       "      <th>angle(tBodyGyroMean,gravityMean)</th>\n",
       "      <th>angle(tBodyGyroJerkMean,gravityMean)</th>\n",
       "      <th>angle(X,gravityMean)</th>\n",
       "      <th>angle(Y,gravityMean)</th>\n",
       "      <th>angle(Z,gravityMean)</th>\n",
       "    </tr>\n",
       "  </thead>\n",
       "  <tbody>\n",
       "    <tr>\n",
       "      <th>count</th>\n",
       "      <td>1500.000000</td>\n",
       "      <td>1500.000000</td>\n",
       "      <td>1500.000000</td>\n",
       "      <td>1500.000000</td>\n",
       "      <td>1500.000000</td>\n",
       "      <td>1500.000000</td>\n",
       "      <td>1500.000000</td>\n",
       "      <td>1500.000000</td>\n",
       "      <td>1500.000000</td>\n",
       "      <td>1500.000000</td>\n",
       "      <td>...</td>\n",
       "      <td>1500.000000</td>\n",
       "      <td>1500.000000</td>\n",
       "      <td>1500.000000</td>\n",
       "      <td>1500.000000</td>\n",
       "      <td>1500.000000</td>\n",
       "      <td>1500.000000</td>\n",
       "      <td>1500.000000</td>\n",
       "      <td>1500.000000</td>\n",
       "      <td>1500.000000</td>\n",
       "      <td>1500.000000</td>\n",
       "    </tr>\n",
       "    <tr>\n",
       "      <th>mean</th>\n",
       "      <td>1430.972000</td>\n",
       "      <td>0.270425</td>\n",
       "      <td>-0.015542</td>\n",
       "      <td>-0.108074</td>\n",
       "      <td>-0.751373</td>\n",
       "      <td>-0.597033</td>\n",
       "      <td>-0.706049</td>\n",
       "      <td>-0.767054</td>\n",
       "      <td>-0.609564</td>\n",
       "      <td>-0.704446</td>\n",
       "      <td>...</td>\n",
       "      <td>0.131738</td>\n",
       "      <td>-0.271333</td>\n",
       "      <td>-0.589327</td>\n",
       "      <td>0.016010</td>\n",
       "      <td>-0.005895</td>\n",
       "      <td>0.009976</td>\n",
       "      <td>-0.007469</td>\n",
       "      <td>-0.335323</td>\n",
       "      <td>-0.119751</td>\n",
       "      <td>-0.099559</td>\n",
       "    </tr>\n",
       "    <tr>\n",
       "      <th>std</th>\n",
       "      <td>845.331241</td>\n",
       "      <td>0.084685</td>\n",
       "      <td>0.036471</td>\n",
       "      <td>0.055224</td>\n",
       "      <td>0.317106</td>\n",
       "      <td>0.490449</td>\n",
       "      <td>0.367092</td>\n",
       "      <td>0.298969</td>\n",
       "      <td>0.474238</td>\n",
       "      <td>0.366831</td>\n",
       "      <td>...</td>\n",
       "      <td>0.252575</td>\n",
       "      <td>0.345604</td>\n",
       "      <td>0.342010</td>\n",
       "      <td>0.314704</td>\n",
       "      <td>0.405709</td>\n",
       "      <td>0.470522</td>\n",
       "      <td>0.412241</td>\n",
       "      <td>0.588168</td>\n",
       "      <td>0.389219</td>\n",
       "      <td>0.279433</td>\n",
       "    </tr>\n",
       "    <tr>\n",
       "      <th>min</th>\n",
       "      <td>27.000000</td>\n",
       "      <td>-1.000000</td>\n",
       "      <td>-0.684097</td>\n",
       "      <td>-1.000000</td>\n",
       "      <td>-0.999300</td>\n",
       "      <td>-0.998524</td>\n",
       "      <td>-0.998689</td>\n",
       "      <td>-0.999304</td>\n",
       "      <td>-0.998316</td>\n",
       "      <td>-0.999808</td>\n",
       "      <td>...</td>\n",
       "      <td>-0.965725</td>\n",
       "      <td>-0.942638</td>\n",
       "      <td>-0.994531</td>\n",
       "      <td>-0.938509</td>\n",
       "      <td>-0.966811</td>\n",
       "      <td>-1.000000</td>\n",
       "      <td>-0.965615</td>\n",
       "      <td>-0.987260</td>\n",
       "      <td>-1.000000</td>\n",
       "      <td>-0.980143</td>\n",
       "    </tr>\n",
       "    <tr>\n",
       "      <th>25%</th>\n",
       "      <td>726.750000</td>\n",
       "      <td>0.264859</td>\n",
       "      <td>-0.021433</td>\n",
       "      <td>-0.118534</td>\n",
       "      <td>-0.993145</td>\n",
       "      <td>-0.983467</td>\n",
       "      <td>-0.982370</td>\n",
       "      <td>-0.993935</td>\n",
       "      <td>-0.983789</td>\n",
       "      <td>-0.982298</td>\n",
       "      <td>...</td>\n",
       "      <td>-0.018315</td>\n",
       "      <td>-0.523260</td>\n",
       "      <td>-0.838278</td>\n",
       "      <td>-0.110572</td>\n",
       "      <td>-0.273488</td>\n",
       "      <td>-0.319770</td>\n",
       "      <td>-0.308523</td>\n",
       "      <td>-0.805326</td>\n",
       "      <td>-0.326854</td>\n",
       "      <td>-0.187316</td>\n",
       "    </tr>\n",
       "    <tr>\n",
       "      <th>50%</th>\n",
       "      <td>1407.500000</td>\n",
       "      <td>0.276946</td>\n",
       "      <td>-0.016817</td>\n",
       "      <td>-0.108755</td>\n",
       "      <td>-0.966535</td>\n",
       "      <td>-0.937492</td>\n",
       "      <td>-0.940266</td>\n",
       "      <td>-0.970645</td>\n",
       "      <td>-0.941455</td>\n",
       "      <td>-0.941162</td>\n",
       "      <td>...</td>\n",
       "      <td>0.142476</td>\n",
       "      <td>-0.308685</td>\n",
       "      <td>-0.683587</td>\n",
       "      <td>0.006884</td>\n",
       "      <td>0.002713</td>\n",
       "      <td>0.023854</td>\n",
       "      <td>0.007943</td>\n",
       "      <td>-0.647089</td>\n",
       "      <td>0.039529</td>\n",
       "      <td>-0.042129</td>\n",
       "    </tr>\n",
       "    <tr>\n",
       "      <th>75%</th>\n",
       "      <td>2133.250000</td>\n",
       "      <td>0.285803</td>\n",
       "      <td>-0.011554</td>\n",
       "      <td>-0.100423</td>\n",
       "      <td>-0.392574</td>\n",
       "      <td>-0.057412</td>\n",
       "      <td>-0.438577</td>\n",
       "      <td>-0.428391</td>\n",
       "      <td>-0.074572</td>\n",
       "      <td>-0.425438</td>\n",
       "      <td>...</td>\n",
       "      <td>0.292809</td>\n",
       "      <td>-0.070582</td>\n",
       "      <td>-0.448272</td>\n",
       "      <td>0.144272</td>\n",
       "      <td>0.251327</td>\n",
       "      <td>0.348860</td>\n",
       "      <td>0.291652</td>\n",
       "      <td>0.365494</td>\n",
       "      <td>0.209986</td>\n",
       "      <td>0.045266</td>\n",
       "    </tr>\n",
       "    <tr>\n",
       "      <th>max</th>\n",
       "      <td>3102.000000</td>\n",
       "      <td>0.559135</td>\n",
       "      <td>0.324130</td>\n",
       "      <td>0.543939</td>\n",
       "      <td>0.057201</td>\n",
       "      <td>0.671192</td>\n",
       "      <td>0.458721</td>\n",
       "      <td>0.005474</td>\n",
       "      <td>0.561008</td>\n",
       "      <td>0.554965</td>\n",
       "      <td>...</td>\n",
       "      <td>0.918576</td>\n",
       "      <td>0.989538</td>\n",
       "      <td>0.956845</td>\n",
       "      <td>0.942855</td>\n",
       "      <td>0.990995</td>\n",
       "      <td>0.989927</td>\n",
       "      <td>0.958589</td>\n",
       "      <td>0.799174</td>\n",
       "      <td>0.324738</td>\n",
       "      <td>0.362180</td>\n",
       "    </tr>\n",
       "  </tbody>\n",
       "</table>\n",
       "<p>8 rows × 562 columns</p>\n",
       "</div>"
      ],
      "text/plain": [
       "        Unnamed: 0  tBodyAcc-mean()-X  tBodyAcc-mean()-Y  tBodyAcc-mean()-Z  \\\n",
       "count  1500.000000        1500.000000        1500.000000        1500.000000   \n",
       "mean   1430.972000           0.270425          -0.015542          -0.108074   \n",
       "std     845.331241           0.084685           0.036471           0.055224   \n",
       "min      27.000000          -1.000000          -0.684097          -1.000000   \n",
       "25%     726.750000           0.264859          -0.021433          -0.118534   \n",
       "50%    1407.500000           0.276946          -0.016817          -0.108755   \n",
       "75%    2133.250000           0.285803          -0.011554          -0.100423   \n",
       "max    3102.000000           0.559135           0.324130           0.543939   \n",
       "\n",
       "       tBodyAcc-std()-X  tBodyAcc-std()-Y  tBodyAcc-std()-Z  tBodyAcc-mad()-X  \\\n",
       "count       1500.000000       1500.000000       1500.000000       1500.000000   \n",
       "mean          -0.751373         -0.597033         -0.706049         -0.767054   \n",
       "std            0.317106          0.490449          0.367092          0.298969   \n",
       "min           -0.999300         -0.998524         -0.998689         -0.999304   \n",
       "25%           -0.993145         -0.983467         -0.982370         -0.993935   \n",
       "50%           -0.966535         -0.937492         -0.940266         -0.970645   \n",
       "75%           -0.392574         -0.057412         -0.438577         -0.428391   \n",
       "max            0.057201          0.671192          0.458721          0.005474   \n",
       "\n",
       "       tBodyAcc-mad()-Y  tBodyAcc-mad()-Z  ...  \\\n",
       "count       1500.000000       1500.000000  ...   \n",
       "mean          -0.609564         -0.704446  ...   \n",
       "std            0.474238          0.366831  ...   \n",
       "min           -0.998316         -0.999808  ...   \n",
       "25%           -0.983789         -0.982298  ...   \n",
       "50%           -0.941455         -0.941162  ...   \n",
       "75%           -0.074572         -0.425438  ...   \n",
       "max            0.561008          0.554965  ...   \n",
       "\n",
       "       fBodyBodyGyroJerkMag-meanFreq()  fBodyBodyGyroJerkMag-skewness()  \\\n",
       "count                      1500.000000                      1500.000000   \n",
       "mean                          0.131738                        -0.271333   \n",
       "std                           0.252575                         0.345604   \n",
       "min                          -0.965725                        -0.942638   \n",
       "25%                          -0.018315                        -0.523260   \n",
       "50%                           0.142476                        -0.308685   \n",
       "75%                           0.292809                        -0.070582   \n",
       "max                           0.918576                         0.989538   \n",
       "\n",
       "       fBodyBodyGyroJerkMag-kurtosis()  angle(tBodyAccMean,gravity)  \\\n",
       "count                      1500.000000                  1500.000000   \n",
       "mean                         -0.589327                     0.016010   \n",
       "std                           0.342010                     0.314704   \n",
       "min                          -0.994531                    -0.938509   \n",
       "25%                          -0.838278                    -0.110572   \n",
       "50%                          -0.683587                     0.006884   \n",
       "75%                          -0.448272                     0.144272   \n",
       "max                           0.956845                     0.942855   \n",
       "\n",
       "       angle(tBodyAccJerkMean),gravityMean)  angle(tBodyGyroMean,gravityMean)  \\\n",
       "count                           1500.000000                       1500.000000   \n",
       "mean                              -0.005895                          0.009976   \n",
       "std                                0.405709                          0.470522   \n",
       "min                               -0.966811                         -1.000000   \n",
       "25%                               -0.273488                         -0.319770   \n",
       "50%                                0.002713                          0.023854   \n",
       "75%                                0.251327                          0.348860   \n",
       "max                                0.990995                          0.989927   \n",
       "\n",
       "       angle(tBodyGyroJerkMean,gravityMean)  angle(X,gravityMean)  \\\n",
       "count                           1500.000000           1500.000000   \n",
       "mean                              -0.007469             -0.335323   \n",
       "std                                0.412241              0.588168   \n",
       "min                               -0.965615             -0.987260   \n",
       "25%                               -0.308523             -0.805326   \n",
       "50%                                0.007943             -0.647089   \n",
       "75%                                0.291652              0.365494   \n",
       "max                                0.958589              0.799174   \n",
       "\n",
       "       angle(Y,gravityMean)  angle(Z,gravityMean)  \n",
       "count           1500.000000           1500.000000  \n",
       "mean              -0.119751             -0.099559  \n",
       "std                0.389219              0.279433  \n",
       "min               -1.000000             -0.980143  \n",
       "25%               -0.326854             -0.187316  \n",
       "50%                0.039529             -0.042129  \n",
       "75%                0.209986              0.045266  \n",
       "max                0.324738              0.362180  \n",
       "\n",
       "[8 rows x 562 columns]"
      ]
     },
     "execution_count": 18,
     "metadata": {},
     "output_type": "execute_result"
    }
   ],
   "source": [
    "df.describe()"
   ]
  },
  {
   "cell_type": "code",
   "execution_count": 19,
   "id": "fbe4ef0e",
   "metadata": {},
   "outputs": [
    {
     "data": {
      "text/html": [
       "<div>\n",
       "<style scoped>\n",
       "    .dataframe tbody tr th:only-of-type {\n",
       "        vertical-align: middle;\n",
       "    }\n",
       "\n",
       "    .dataframe tbody tr th {\n",
       "        vertical-align: top;\n",
       "    }\n",
       "\n",
       "    .dataframe thead th {\n",
       "        text-align: right;\n",
       "    }\n",
       "</style>\n",
       "<table border=\"1\" class=\"dataframe\">\n",
       "  <thead>\n",
       "    <tr style=\"text-align: right;\">\n",
       "      <th></th>\n",
       "      <th>Unnamed: 0</th>\n",
       "      <th>tBodyAcc-mean()-X</th>\n",
       "      <th>tBodyAcc-mean()-Y</th>\n",
       "      <th>tBodyAcc-mean()-Z</th>\n",
       "      <th>tBodyAcc-std()-X</th>\n",
       "      <th>tBodyAcc-std()-Y</th>\n",
       "      <th>tBodyAcc-std()-Z</th>\n",
       "      <th>tBodyAcc-mad()-X</th>\n",
       "      <th>tBodyAcc-mad()-Y</th>\n",
       "      <th>tBodyAcc-mad()-Z</th>\n",
       "      <th>...</th>\n",
       "      <th>fBodyBodyGyroJerkMag-meanFreq()</th>\n",
       "      <th>fBodyBodyGyroJerkMag-skewness()</th>\n",
       "      <th>fBodyBodyGyroJerkMag-kurtosis()</th>\n",
       "      <th>angle(tBodyAccMean,gravity)</th>\n",
       "      <th>angle(tBodyAccJerkMean),gravityMean)</th>\n",
       "      <th>angle(tBodyGyroMean,gravityMean)</th>\n",
       "      <th>angle(tBodyGyroJerkMean,gravityMean)</th>\n",
       "      <th>angle(X,gravityMean)</th>\n",
       "      <th>angle(Y,gravityMean)</th>\n",
       "      <th>angle(Z,gravityMean)</th>\n",
       "    </tr>\n",
       "  </thead>\n",
       "  <tbody>\n",
       "    <tr>\n",
       "      <th>0</th>\n",
       "      <td>51</td>\n",
       "      <td>0.403474</td>\n",
       "      <td>-0.015074</td>\n",
       "      <td>-0.118167</td>\n",
       "      <td>-0.914811</td>\n",
       "      <td>-0.895231</td>\n",
       "      <td>-0.891748</td>\n",
       "      <td>-0.917696</td>\n",
       "      <td>-0.924624</td>\n",
       "      <td>-0.905895</td>\n",
       "      <td>...</td>\n",
       "      <td>-0.274891</td>\n",
       "      <td>0.383907</td>\n",
       "      <td>-0.021764</td>\n",
       "      <td>-0.068580</td>\n",
       "      <td>-0.043105</td>\n",
       "      <td>-0.332249</td>\n",
       "      <td>0.487505</td>\n",
       "      <td>0.432479</td>\n",
       "      <td>-0.553351</td>\n",
       "      <td>-0.432876</td>\n",
       "    </tr>\n",
       "    <tr>\n",
       "      <th>1</th>\n",
       "      <td>52</td>\n",
       "      <td>0.278373</td>\n",
       "      <td>-0.020561</td>\n",
       "      <td>-0.096825</td>\n",
       "      <td>-0.984883</td>\n",
       "      <td>-0.991118</td>\n",
       "      <td>-0.982112</td>\n",
       "      <td>-0.987985</td>\n",
       "      <td>-0.990362</td>\n",
       "      <td>-0.982189</td>\n",
       "      <td>...</td>\n",
       "      <td>0.428473</td>\n",
       "      <td>-0.687636</td>\n",
       "      <td>-0.912512</td>\n",
       "      <td>-0.113048</td>\n",
       "      <td>0.223038</td>\n",
       "      <td>-0.393075</td>\n",
       "      <td>0.359037</td>\n",
       "      <td>0.399853</td>\n",
       "      <td>-0.550364</td>\n",
       "      <td>-0.427593</td>\n",
       "    </tr>\n",
       "    <tr>\n",
       "      <th>2</th>\n",
       "      <td>53</td>\n",
       "      <td>0.276555</td>\n",
       "      <td>-0.017869</td>\n",
       "      <td>-0.107621</td>\n",
       "      <td>-0.994195</td>\n",
       "      <td>-0.996372</td>\n",
       "      <td>-0.995615</td>\n",
       "      <td>-0.994901</td>\n",
       "      <td>-0.996360</td>\n",
       "      <td>-0.996628</td>\n",
       "      <td>...</td>\n",
       "      <td>0.437532</td>\n",
       "      <td>-0.519084</td>\n",
       "      <td>-0.813040</td>\n",
       "      <td>0.293145</td>\n",
       "      <td>-0.018635</td>\n",
       "      <td>-0.246980</td>\n",
       "      <td>0.453923</td>\n",
       "      <td>0.399066</td>\n",
       "      <td>-0.546725</td>\n",
       "      <td>-0.431244</td>\n",
       "    </tr>\n",
       "    <tr>\n",
       "      <th>3</th>\n",
       "      <td>54</td>\n",
       "      <td>0.279575</td>\n",
       "      <td>-0.017276</td>\n",
       "      <td>-0.109481</td>\n",
       "      <td>-0.996135</td>\n",
       "      <td>-0.995812</td>\n",
       "      <td>-0.998689</td>\n",
       "      <td>-0.996393</td>\n",
       "      <td>-0.995474</td>\n",
       "      <td>-0.999006</td>\n",
       "      <td>...</td>\n",
       "      <td>0.543848</td>\n",
       "      <td>-0.855139</td>\n",
       "      <td>-0.984028</td>\n",
       "      <td>0.240526</td>\n",
       "      <td>0.149804</td>\n",
       "      <td>0.393611</td>\n",
       "      <td>0.386719</td>\n",
       "      <td>0.399555</td>\n",
       "      <td>-0.546477</td>\n",
       "      <td>-0.431646</td>\n",
       "    </tr>\n",
       "    <tr>\n",
       "      <th>4</th>\n",
       "      <td>55</td>\n",
       "      <td>0.276527</td>\n",
       "      <td>-0.016819</td>\n",
       "      <td>-0.107983</td>\n",
       "      <td>-0.996775</td>\n",
       "      <td>-0.997256</td>\n",
       "      <td>-0.995422</td>\n",
       "      <td>-0.997167</td>\n",
       "      <td>-0.997108</td>\n",
       "      <td>-0.995739</td>\n",
       "      <td>...</td>\n",
       "      <td>0.638939</td>\n",
       "      <td>-0.852171</td>\n",
       "      <td>-0.954254</td>\n",
       "      <td>-0.347519</td>\n",
       "      <td>-0.469155</td>\n",
       "      <td>0.308855</td>\n",
       "      <td>-0.354146</td>\n",
       "      <td>0.398889</td>\n",
       "      <td>-0.546712</td>\n",
       "      <td>-0.431207</td>\n",
       "    </tr>\n",
       "  </tbody>\n",
       "</table>\n",
       "<p>5 rows × 562 columns</p>\n",
       "</div>"
      ],
      "text/plain": [
       "   Unnamed: 0  tBodyAcc-mean()-X  tBodyAcc-mean()-Y  tBodyAcc-mean()-Z  \\\n",
       "0          51           0.403474          -0.015074          -0.118167   \n",
       "1          52           0.278373          -0.020561          -0.096825   \n",
       "2          53           0.276555          -0.017869          -0.107621   \n",
       "3          54           0.279575          -0.017276          -0.109481   \n",
       "4          55           0.276527          -0.016819          -0.107983   \n",
       "\n",
       "   tBodyAcc-std()-X  tBodyAcc-std()-Y  tBodyAcc-std()-Z  tBodyAcc-mad()-X  \\\n",
       "0         -0.914811         -0.895231         -0.891748         -0.917696   \n",
       "1         -0.984883         -0.991118         -0.982112         -0.987985   \n",
       "2         -0.994195         -0.996372         -0.995615         -0.994901   \n",
       "3         -0.996135         -0.995812         -0.998689         -0.996393   \n",
       "4         -0.996775         -0.997256         -0.995422         -0.997167   \n",
       "\n",
       "   tBodyAcc-mad()-Y  tBodyAcc-mad()-Z  ...  fBodyBodyGyroJerkMag-meanFreq()  \\\n",
       "0         -0.924624         -0.905895  ...                        -0.274891   \n",
       "1         -0.990362         -0.982189  ...                         0.428473   \n",
       "2         -0.996360         -0.996628  ...                         0.437532   \n",
       "3         -0.995474         -0.999006  ...                         0.543848   \n",
       "4         -0.997108         -0.995739  ...                         0.638939   \n",
       "\n",
       "   fBodyBodyGyroJerkMag-skewness()  fBodyBodyGyroJerkMag-kurtosis()  \\\n",
       "0                         0.383907                        -0.021764   \n",
       "1                        -0.687636                        -0.912512   \n",
       "2                        -0.519084                        -0.813040   \n",
       "3                        -0.855139                        -0.984028   \n",
       "4                        -0.852171                        -0.954254   \n",
       "\n",
       "   angle(tBodyAccMean,gravity)  angle(tBodyAccJerkMean),gravityMean)  \\\n",
       "0                    -0.068580                             -0.043105   \n",
       "1                    -0.113048                              0.223038   \n",
       "2                     0.293145                             -0.018635   \n",
       "3                     0.240526                              0.149804   \n",
       "4                    -0.347519                             -0.469155   \n",
       "\n",
       "   angle(tBodyGyroMean,gravityMean)  angle(tBodyGyroJerkMean,gravityMean)  \\\n",
       "0                         -0.332249                              0.487505   \n",
       "1                         -0.393075                              0.359037   \n",
       "2                         -0.246980                              0.453923   \n",
       "3                          0.393611                              0.386719   \n",
       "4                          0.308855                             -0.354146   \n",
       "\n",
       "   angle(X,gravityMean)  angle(Y,gravityMean)  angle(Z,gravityMean)  \n",
       "0              0.432479             -0.553351             -0.432876  \n",
       "1              0.399853             -0.550364             -0.427593  \n",
       "2              0.399066             -0.546725             -0.431244  \n",
       "3              0.399555             -0.546477             -0.431646  \n",
       "4              0.398889             -0.546712             -0.431207  \n",
       "\n",
       "[5 rows x 562 columns]"
      ]
     },
     "execution_count": 19,
     "metadata": {},
     "output_type": "execute_result"
    }
   ],
   "source": [
    "X=df.drop('Activity',axis=1)\n",
    "X.head()"
   ]
  },
  {
   "cell_type": "code",
   "execution_count": 20,
   "id": "ff134886",
   "metadata": {},
   "outputs": [
    {
     "data": {
      "text/plain": [
       "0    LAYING\n",
       "1    LAYING\n",
       "2    LAYING\n",
       "3    LAYING\n",
       "4    LAYING\n",
       "Name: Activity, dtype: object"
      ]
     },
     "execution_count": 20,
     "metadata": {},
     "output_type": "execute_result"
    }
   ],
   "source": [
    "y=df['Activity']\n",
    "y.head()"
   ]
  },
  {
   "cell_type": "code",
   "execution_count": 21,
   "id": "1034c50a",
   "metadata": {},
   "outputs": [],
   "source": [
    "X_train,X_test,y_train,y_test = train_test_split(X,y,test_size=0.3,random_state=42)"
   ]
  },
  {
   "cell_type": "code",
   "execution_count": 22,
   "id": "7f5e63bb",
   "metadata": {},
   "outputs": [],
   "source": [
    "model = GradientBoostingClassifier(subsample=0.5,n_estimators=100,learning_rate=1.0,max_depth=10)\n",
    "model.fit(X_train,y_train)\n",
    "y_pred = model.predict(X_test)"
   ]
  },
  {
   "cell_type": "code",
   "execution_count": 23,
   "id": "6f131764",
   "metadata": {},
   "outputs": [
    {
     "name": "stdout",
     "output_type": "stream",
     "text": [
      "1.0\n"
     ]
    }
   ],
   "source": [
    "print(accuracy_score(y_test,y_pred))"
   ]
  },
  {
   "cell_type": "code",
   "execution_count": 24,
   "id": "dc2b9101",
   "metadata": {},
   "outputs": [
    {
     "name": "stdout",
     "output_type": "stream",
     "text": [
      "              precision    recall  f1-score   support\n",
      "\n",
      "      LAYING       1.00      1.00      1.00       148\n",
      "     SITTING       1.00      1.00      1.00       141\n",
      "     WALKING       1.00      1.00      1.00       161\n",
      "\n",
      "    accuracy                           1.00       450\n",
      "   macro avg       1.00      1.00      1.00       450\n",
      "weighted avg       1.00      1.00      1.00       450\n",
      "\n"
     ]
    }
   ],
   "source": [
    "print(classification_report(y_test,y_pred))\n"
   ]
  },
  {
   "cell_type": "markdown",
   "id": "47f28714",
   "metadata": {},
   "source": [
    "#### Step-4: [Find Best no. of trees and Best Learning Rate using Grid Search and Cross Validation]"
   ]
  },
  {
   "cell_type": "code",
   "execution_count": 25,
   "id": "00005869",
   "metadata": {},
   "outputs": [],
   "source": [
    "all_scores = cross_val_score(estimator=model, X=X_train, y=y_train, cv=5)"
   ]
  },
  {
   "cell_type": "code",
   "execution_count": 26,
   "id": "0cdf2193",
   "metadata": {},
   "outputs": [
    {
     "name": "stdout",
     "output_type": "stream",
     "text": [
      "[1.        1.        1.        1.        0.9952381]\n"
     ]
    }
   ],
   "source": [
    "print(all_scores)"
   ]
  },
  {
   "cell_type": "code",
   "execution_count": 27,
   "id": "f6d07641",
   "metadata": {},
   "outputs": [
    {
     "data": {
      "text/plain": [
       "0.9990476190476191"
      ]
     },
     "execution_count": 27,
     "metadata": {},
     "output_type": "execute_result"
    }
   ],
   "source": [
    "all_scores.mean()"
   ]
  },
  {
   "cell_type": "code",
   "execution_count": 28,
   "id": "2cc79a46",
   "metadata": {},
   "outputs": [],
   "source": [
    "parameter = {'n_estimators': [50, 100, 200, 400], 'learning_rate': [0.1, 0.01]}"
   ]
  },
  {
   "cell_type": "code",
   "execution_count": 29,
   "id": "cfe08553",
   "metadata": {},
   "outputs": [],
   "source": [
    "model1 = GridSearchCV(estimator=model,\n",
    "param_grid=parameter,cv=5,n_jobs=-1)"
   ]
  },
  {
   "cell_type": "code",
   "execution_count": 30,
   "id": "f152e39d",
   "metadata": {},
   "outputs": [
    {
     "data": {
      "text/plain": [
       "GridSearchCV(cv=5,\n",
       "             estimator=GradientBoostingClassifier(learning_rate=1.0,\n",
       "                                                  max_depth=10, subsample=0.5),\n",
       "             n_jobs=-1,\n",
       "             param_grid={'learning_rate': [0.1, 0.01],\n",
       "                         'n_estimators': [50, 100, 200, 400]})"
      ]
     },
     "execution_count": 30,
     "metadata": {},
     "output_type": "execute_result"
    }
   ],
   "source": [
    "model1.fit(X_train,y_train)"
   ]
  },
  {
   "cell_type": "code",
   "execution_count": 31,
   "id": "41751aa3",
   "metadata": {},
   "outputs": [],
   "source": [
    "y_pred2=model1.predict(X_test)"
   ]
  },
  {
   "cell_type": "code",
   "execution_count": 32,
   "id": "96f16d8c",
   "metadata": {},
   "outputs": [
    {
     "name": "stdout",
     "output_type": "stream",
     "text": [
      "1.0\n"
     ]
    }
   ],
   "source": [
    "print(accuracy_score(y_test,y_pred2))"
   ]
  },
  {
   "cell_type": "code",
   "execution_count": 33,
   "id": "5f1d7087",
   "metadata": {},
   "outputs": [
    {
     "name": "stdout",
     "output_type": "stream",
     "text": [
      "              precision    recall  f1-score   support\n",
      "\n",
      "      LAYING       1.00      1.00      1.00       148\n",
      "     SITTING       1.00      1.00      1.00       141\n",
      "     WALKING       1.00      1.00      1.00       161\n",
      "\n",
      "    accuracy                           1.00       450\n",
      "   macro avg       1.00      1.00      1.00       450\n",
      "weighted avg       1.00      1.00      1.00       450\n",
      "\n"
     ]
    }
   ],
   "source": [
    "print(classification_report(y_test,y_pred2))"
   ]
  },
  {
   "cell_type": "code",
   "execution_count": 34,
   "id": "7f9c9d53",
   "metadata": {},
   "outputs": [
    {
     "name": "stdout",
     "output_type": "stream",
     "text": [
      "GradientBoostingClassifier(max_depth=10, n_estimators=50, subsample=0.5)\n"
     ]
    }
   ],
   "source": [
    "print(model1.best_estimator_)"
   ]
  },
  {
   "cell_type": "markdown",
   "id": "053710c5",
   "metadata": {},
   "source": [
    "#### step 5: [Best AdaBoostClassifier]"
   ]
  },
  {
   "cell_type": "code",
   "execution_count": 35,
   "id": "7d773f05",
   "metadata": {},
   "outputs": [
    {
     "data": {
      "text/plain": [
       "GridSearchCV(cv=5,\n",
       "             estimator=AdaBoostClassifier(base_estimator=DecisionTreeClassifier(max_features=4),\n",
       "                                          random_state=0),\n",
       "             n_jobs=-1,\n",
       "             param_grid={'learning_rate': [0.01, 0.001],\n",
       "                         'n_estimators': [100, 150, 200]})"
      ]
     },
     "execution_count": 35,
     "metadata": {},
     "output_type": "execute_result"
    }
   ],
   "source": [
    "base = DecisionTreeClassifier(max_features=4)\n",
    "model2 = AdaBoostClassifier(base_estimator=base,random_state=0)\n",
    "param_grid = {'n_estimators': [100, 150, 200], 'learning_rate': [0.01, 0.001]}\n",
    "model3 = GridSearchCV(model2,param_grid,cv=5,n_jobs=-1)\n",
    "model3.fit(X_train,y_train)"
   ]
  },
  {
   "cell_type": "code",
   "execution_count": 36,
   "id": "7ee88370",
   "metadata": {
    "scrolled": true
   },
   "outputs": [
    {
     "data": {
      "text/plain": [
       "array(['WALKING', 'WALKING', 'LAYING', 'LAYING', 'SITTING', 'SITTING',\n",
       "       'WALKING', 'SITTING', 'WALKING', 'LAYING', 'LAYING', 'WALKING',\n",
       "       'SITTING', 'SITTING', 'LAYING', 'WALKING', 'WALKING', 'SITTING',\n",
       "       'LAYING', 'LAYING', 'WALKING', 'WALKING', 'WALKING', 'WALKING',\n",
       "       'WALKING', 'LAYING', 'WALKING', 'WALKING', 'WALKING', 'WALKING',\n",
       "       'WALKING', 'LAYING', 'WALKING', 'WALKING', 'LAYING', 'SITTING',\n",
       "       'LAYING', 'LAYING', 'WALKING', 'SITTING', 'WALKING', 'SITTING',\n",
       "       'WALKING', 'SITTING', 'WALKING', 'LAYING', 'LAYING', 'LAYING',\n",
       "       'LAYING', 'SITTING', 'LAYING', 'SITTING', 'WALKING', 'WALKING',\n",
       "       'SITTING', 'LAYING', 'SITTING', 'LAYING', 'SITTING', 'SITTING',\n",
       "       'SITTING', 'SITTING', 'LAYING', 'LAYING', 'SITTING', 'SITTING',\n",
       "       'LAYING', 'WALKING', 'WALKING', 'LAYING', 'LAYING', 'SITTING',\n",
       "       'SITTING', 'LAYING', 'SITTING', 'WALKING', 'SITTING', 'SITTING',\n",
       "       'SITTING', 'LAYING', 'WALKING', 'LAYING', 'LAYING', 'SITTING',\n",
       "       'LAYING', 'LAYING', 'SITTING', 'SITTING', 'SITTING', 'LAYING',\n",
       "       'WALKING', 'LAYING', 'LAYING', 'WALKING', 'WALKING', 'SITTING',\n",
       "       'LAYING', 'LAYING', 'WALKING', 'LAYING', 'SITTING', 'SITTING',\n",
       "       'WALKING', 'WALKING', 'LAYING', 'LAYING', 'LAYING', 'WALKING',\n",
       "       'LAYING', 'SITTING', 'LAYING', 'WALKING', 'SITTING', 'LAYING',\n",
       "       'LAYING', 'LAYING', 'SITTING', 'LAYING', 'LAYING', 'WALKING',\n",
       "       'LAYING', 'WALKING', 'WALKING', 'LAYING', 'LAYING', 'WALKING',\n",
       "       'WALKING', 'SITTING', 'WALKING', 'LAYING', 'WALKING', 'LAYING',\n",
       "       'WALKING', 'WALKING', 'SITTING', 'LAYING', 'SITTING', 'SITTING',\n",
       "       'SITTING', 'LAYING', 'WALKING', 'LAYING', 'WALKING', 'LAYING',\n",
       "       'LAYING', 'WALKING', 'SITTING', 'WALKING', 'LAYING', 'SITTING',\n",
       "       'WALKING', 'WALKING', 'SITTING', 'WALKING', 'SITTING', 'WALKING',\n",
       "       'WALKING', 'LAYING', 'SITTING', 'LAYING', 'LAYING', 'LAYING',\n",
       "       'WALKING', 'WALKING', 'LAYING', 'LAYING', 'WALKING', 'WALKING',\n",
       "       'SITTING', 'LAYING', 'LAYING', 'WALKING', 'SITTING', 'SITTING',\n",
       "       'LAYING', 'LAYING', 'WALKING', 'SITTING', 'LAYING', 'WALKING',\n",
       "       'LAYING', 'LAYING', 'LAYING', 'LAYING', 'WALKING', 'SITTING',\n",
       "       'SITTING', 'LAYING', 'WALKING', 'WALKING', 'SITTING', 'SITTING',\n",
       "       'WALKING', 'WALKING', 'SITTING', 'LAYING', 'SITTING', 'LAYING',\n",
       "       'SITTING', 'LAYING', 'SITTING', 'SITTING', 'LAYING', 'LAYING',\n",
       "       'WALKING', 'LAYING', 'LAYING', 'SITTING', 'SITTING', 'SITTING',\n",
       "       'LAYING', 'WALKING', 'SITTING', 'WALKING', 'LAYING', 'LAYING',\n",
       "       'WALKING', 'LAYING', 'WALKING', 'LAYING', 'WALKING', 'SITTING',\n",
       "       'SITTING', 'SITTING', 'LAYING', 'SITTING', 'LAYING', 'LAYING',\n",
       "       'WALKING', 'WALKING', 'WALKING', 'LAYING', 'SITTING', 'WALKING',\n",
       "       'WALKING', 'WALKING', 'WALKING', 'WALKING', 'WALKING', 'WALKING',\n",
       "       'SITTING', 'WALKING', 'SITTING', 'LAYING', 'SITTING', 'SITTING',\n",
       "       'WALKING', 'WALKING', 'WALKING', 'SITTING', 'WALKING', 'LAYING',\n",
       "       'WALKING', 'LAYING', 'WALKING', 'SITTING', 'SITTING', 'SITTING',\n",
       "       'SITTING', 'WALKING', 'WALKING', 'LAYING', 'SITTING', 'SITTING',\n",
       "       'WALKING', 'WALKING', 'SITTING', 'LAYING', 'WALKING', 'SITTING',\n",
       "       'LAYING', 'LAYING', 'LAYING', 'WALKING', 'SITTING', 'WALKING',\n",
       "       'WALKING', 'WALKING', 'LAYING', 'WALKING', 'WALKING', 'WALKING',\n",
       "       'WALKING', 'SITTING', 'LAYING', 'SITTING', 'LAYING', 'WALKING',\n",
       "       'SITTING', 'WALKING', 'SITTING', 'WALKING', 'LAYING', 'WALKING',\n",
       "       'SITTING', 'SITTING', 'LAYING', 'WALKING', 'WALKING', 'LAYING',\n",
       "       'LAYING', 'SITTING', 'WALKING', 'WALKING', 'LAYING', 'LAYING',\n",
       "       'WALKING', 'WALKING', 'LAYING', 'LAYING', 'LAYING', 'WALKING',\n",
       "       'LAYING', 'SITTING', 'LAYING', 'SITTING', 'SITTING', 'SITTING',\n",
       "       'LAYING', 'WALKING', 'SITTING', 'WALKING', 'SITTING', 'LAYING',\n",
       "       'SITTING', 'WALKING', 'LAYING', 'WALKING', 'LAYING', 'LAYING',\n",
       "       'WALKING', 'SITTING', 'WALKING', 'SITTING', 'SITTING', 'WALKING',\n",
       "       'LAYING', 'LAYING', 'SITTING', 'SITTING', 'SITTING', 'SITTING',\n",
       "       'WALKING', 'WALKING', 'WALKING', 'SITTING', 'LAYING', 'SITTING',\n",
       "       'LAYING', 'WALKING', 'LAYING', 'SITTING', 'LAYING', 'WALKING',\n",
       "       'SITTING', 'SITTING', 'SITTING', 'SITTING', 'SITTING', 'LAYING',\n",
       "       'SITTING', 'SITTING', 'WALKING', 'WALKING', 'WALKING', 'SITTING',\n",
       "       'LAYING', 'SITTING', 'LAYING', 'WALKING', 'LAYING', 'WALKING',\n",
       "       'WALKING', 'SITTING', 'WALKING', 'SITTING', 'WALKING', 'WALKING',\n",
       "       'WALKING', 'LAYING', 'WALKING', 'WALKING', 'WALKING', 'SITTING',\n",
       "       'SITTING', 'LAYING', 'WALKING', 'WALKING', 'LAYING', 'WALKING',\n",
       "       'SITTING', 'LAYING', 'WALKING', 'LAYING', 'WALKING', 'SITTING',\n",
       "       'SITTING', 'WALKING', 'WALKING', 'SITTING', 'SITTING', 'LAYING',\n",
       "       'WALKING', 'WALKING', 'LAYING', 'LAYING', 'LAYING', 'LAYING',\n",
       "       'LAYING', 'WALKING', 'WALKING', 'LAYING', 'SITTING', 'LAYING',\n",
       "       'SITTING', 'SITTING', 'LAYING', 'WALKING', 'SITTING', 'WALKING',\n",
       "       'LAYING', 'LAYING', 'LAYING', 'SITTING', 'LAYING', 'WALKING',\n",
       "       'SITTING', 'LAYING', 'LAYING', 'WALKING', 'SITTING', 'SITTING',\n",
       "       'SITTING', 'LAYING', 'SITTING', 'SITTING', 'LAYING', 'LAYING',\n",
       "       'LAYING', 'SITTING', 'WALKING', 'SITTING', 'LAYING', 'WALKING',\n",
       "       'LAYING', 'WALKING', 'SITTING', 'SITTING', 'WALKING', 'WALKING'],\n",
       "      dtype=object)"
      ]
     },
     "execution_count": 36,
     "metadata": {},
     "output_type": "execute_result"
    }
   ],
   "source": [
    "y_pred3=model3.predict(X_test)\n",
    "y_pred3"
   ]
  },
  {
   "cell_type": "code",
   "execution_count": 37,
   "id": "668eaad1",
   "metadata": {},
   "outputs": [
    {
     "data": {
      "text/plain": [
       "0.9"
      ]
     },
     "execution_count": 37,
     "metadata": {},
     "output_type": "execute_result"
    }
   ],
   "source": [
    "accuracy_score(y_test,y_pred3)"
   ]
  },
  {
   "cell_type": "code",
   "execution_count": 38,
   "id": "ea5845c0",
   "metadata": {},
   "outputs": [
    {
     "name": "stdout",
     "output_type": "stream",
     "text": [
      "              precision    recall  f1-score   support\n",
      "\n",
      "      LAYING       0.84      0.86      0.85       148\n",
      "     SITTING       0.85      0.84      0.84       141\n",
      "     WALKING       1.00      0.99      0.99       161\n",
      "\n",
      "    accuracy                           0.90       450\n",
      "   macro avg       0.90      0.90      0.90       450\n",
      "weighted avg       0.90      0.90      0.90       450\n",
      "\n"
     ]
    }
   ],
   "source": [
    "print(classification_report(y_test,y_pred3))"
   ]
  },
  {
   "cell_type": "code",
   "execution_count": 39,
   "id": "d1ab6968",
   "metadata": {},
   "outputs": [
    {
     "name": "stdout",
     "output_type": "stream",
     "text": [
      "AdaBoostClassifier(base_estimator=DecisionTreeClassifier(max_features=4),\n",
      "                   learning_rate=0.01, n_estimators=100, random_state=0)\n"
     ]
    }
   ],
   "source": [
    "print(model3.best_estimator_)"
   ]
  },
  {
   "cell_type": "markdown",
   "id": "05b142f2",
   "metadata": {},
   "source": [
    "#### Step-6: [Build a LogisticRegressionCV classifier]\n"
   ]
  },
  {
   "cell_type": "code",
   "execution_count": 40,
   "id": "7ac9c063",
   "metadata": {
    "scrolled": true
   },
   "outputs": [
    {
     "data": {
      "text/plain": [
       "array(['WALKING', 'WALKING', 'LAYING', 'LAYING', 'LAYING', 'SITTING',\n",
       "       'WALKING', 'SITTING', 'WALKING', 'LAYING', 'SITTING', 'WALKING',\n",
       "       'SITTING', 'WALKING', 'LAYING', 'WALKING', 'WALKING', 'SITTING',\n",
       "       'LAYING', 'LAYING', 'WALKING', 'WALKING', 'WALKING', 'WALKING',\n",
       "       'WALKING', 'LAYING', 'WALKING', 'WALKING', 'WALKING', 'WALKING',\n",
       "       'WALKING', 'SITTING', 'WALKING', 'WALKING', 'LAYING', 'LAYING',\n",
       "       'LAYING', 'LAYING', 'WALKING', 'LAYING', 'WALKING', 'LAYING',\n",
       "       'WALKING', 'SITTING', 'WALKING', 'LAYING', 'LAYING', 'LAYING',\n",
       "       'SITTING', 'SITTING', 'SITTING', 'SITTING', 'WALKING', 'WALKING',\n",
       "       'SITTING', 'SITTING', 'LAYING', 'LAYING', 'LAYING', 'SITTING',\n",
       "       'SITTING', 'SITTING', 'LAYING', 'LAYING', 'SITTING', 'LAYING',\n",
       "       'LAYING', 'WALKING', 'WALKING', 'LAYING', 'LAYING', 'SITTING',\n",
       "       'SITTING', 'LAYING', 'SITTING', 'WALKING', 'SITTING', 'SITTING',\n",
       "       'LAYING', 'SITTING', 'WALKING', 'LAYING', 'LAYING', 'SITTING',\n",
       "       'SITTING', 'LAYING', 'SITTING', 'SITTING', 'SITTING', 'SITTING',\n",
       "       'WALKING', 'LAYING', 'LAYING', 'WALKING', 'WALKING', 'LAYING',\n",
       "       'LAYING', 'LAYING', 'WALKING', 'LAYING', 'SITTING', 'SITTING',\n",
       "       'WALKING', 'WALKING', 'LAYING', 'LAYING', 'LAYING', 'WALKING',\n",
       "       'LAYING', 'SITTING', 'LAYING', 'WALKING', 'SITTING', 'LAYING',\n",
       "       'LAYING', 'LAYING', 'SITTING', 'LAYING', 'LAYING', 'WALKING',\n",
       "       'SITTING', 'WALKING', 'WALKING', 'LAYING', 'LAYING', 'WALKING',\n",
       "       'WALKING', 'SITTING', 'WALKING', 'LAYING', 'WALKING', 'LAYING',\n",
       "       'WALKING', 'WALKING', 'SITTING', 'LAYING', 'LAYING', 'LAYING',\n",
       "       'SITTING', 'LAYING', 'WALKING', 'LAYING', 'WALKING', 'LAYING',\n",
       "       'WALKING', 'WALKING', 'SITTING', 'WALKING', 'LAYING', 'SITTING',\n",
       "       'WALKING', 'WALKING', 'SITTING', 'WALKING', 'SITTING', 'WALKING',\n",
       "       'WALKING', 'LAYING', 'LAYING', 'LAYING', 'LAYING', 'LAYING',\n",
       "       'WALKING', 'WALKING', 'LAYING', 'LAYING', 'WALKING', 'WALKING',\n",
       "       'SITTING', 'LAYING', 'LAYING', 'WALKING', 'SITTING', 'SITTING',\n",
       "       'LAYING', 'LAYING', 'WALKING', 'SITTING', 'LAYING', 'WALKING',\n",
       "       'LAYING', 'SITTING', 'LAYING', 'LAYING', 'WALKING', 'SITTING',\n",
       "       'SITTING', 'LAYING', 'WALKING', 'WALKING', 'SITTING', 'SITTING',\n",
       "       'WALKING', 'WALKING', 'SITTING', 'LAYING', 'SITTING', 'LAYING',\n",
       "       'SITTING', 'LAYING', 'SITTING', 'SITTING', 'LAYING', 'LAYING',\n",
       "       'WALKING', 'SITTING', 'LAYING', 'SITTING', 'LAYING', 'SITTING',\n",
       "       'LAYING', 'WALKING', 'SITTING', 'WALKING', 'LAYING', 'LAYING',\n",
       "       'WALKING', 'LAYING', 'WALKING', 'LAYING', 'WALKING', 'SITTING',\n",
       "       'SITTING', 'SITTING', 'LAYING', 'LAYING', 'LAYING', 'LAYING',\n",
       "       'WALKING', 'WALKING', 'WALKING', 'LAYING', 'SITTING', 'WALKING',\n",
       "       'WALKING', 'WALKING', 'WALKING', 'WALKING', 'WALKING', 'WALKING',\n",
       "       'SITTING', 'WALKING', 'SITTING', 'LAYING', 'SITTING', 'SITTING',\n",
       "       'WALKING', 'WALKING', 'WALKING', 'SITTING', 'WALKING', 'LAYING',\n",
       "       'WALKING', 'SITTING', 'WALKING', 'SITTING', 'LAYING', 'SITTING',\n",
       "       'SITTING', 'WALKING', 'WALKING', 'LAYING', 'SITTING', 'SITTING',\n",
       "       'WALKING', 'WALKING', 'SITTING', 'LAYING', 'WALKING', 'SITTING',\n",
       "       'LAYING', 'LAYING', 'LAYING', 'WALKING', 'SITTING', 'WALKING',\n",
       "       'WALKING', 'WALKING', 'LAYING', 'WALKING', 'WALKING', 'WALKING',\n",
       "       'WALKING', 'SITTING', 'LAYING', 'SITTING', 'LAYING', 'WALKING',\n",
       "       'LAYING', 'WALKING', 'SITTING', 'WALKING', 'LAYING', 'WALKING',\n",
       "       'SITTING', 'SITTING', 'SITTING', 'WALKING', 'WALKING', 'SITTING',\n",
       "       'LAYING', 'SITTING', 'WALKING', 'WALKING', 'LAYING', 'LAYING',\n",
       "       'WALKING', 'WALKING', 'SITTING', 'LAYING', 'LAYING', 'WALKING',\n",
       "       'LAYING', 'SITTING', 'WALKING', 'SITTING', 'SITTING', 'SITTING',\n",
       "       'LAYING', 'WALKING', 'SITTING', 'WALKING', 'SITTING', 'SITTING',\n",
       "       'SITTING', 'WALKING', 'LAYING', 'WALKING', 'LAYING', 'LAYING',\n",
       "       'WALKING', 'SITTING', 'WALKING', 'SITTING', 'SITTING', 'WALKING',\n",
       "       'LAYING', 'LAYING', 'SITTING', 'SITTING', 'LAYING', 'SITTING',\n",
       "       'WALKING', 'WALKING', 'WALKING', 'SITTING', 'LAYING', 'SITTING',\n",
       "       'LAYING', 'WALKING', 'LAYING', 'SITTING', 'LAYING', 'WALKING',\n",
       "       'SITTING', 'SITTING', 'SITTING', 'SITTING', 'SITTING', 'LAYING',\n",
       "       'SITTING', 'SITTING', 'WALKING', 'WALKING', 'WALKING', 'SITTING',\n",
       "       'LAYING', 'SITTING', 'LAYING', 'WALKING', 'LAYING', 'WALKING',\n",
       "       'WALKING', 'SITTING', 'WALKING', 'SITTING', 'WALKING', 'WALKING',\n",
       "       'WALKING', 'LAYING', 'WALKING', 'WALKING', 'WALKING', 'SITTING',\n",
       "       'SITTING', 'LAYING', 'WALKING', 'WALKING', 'LAYING', 'WALKING',\n",
       "       'SITTING', 'SITTING', 'WALKING', 'SITTING', 'WALKING', 'SITTING',\n",
       "       'LAYING', 'WALKING', 'WALKING', 'SITTING', 'SITTING', 'LAYING',\n",
       "       'WALKING', 'WALKING', 'LAYING', 'SITTING', 'LAYING', 'LAYING',\n",
       "       'LAYING', 'WALKING', 'WALKING', 'LAYING', 'SITTING', 'LAYING',\n",
       "       'SITTING', 'SITTING', 'LAYING', 'WALKING', 'SITTING', 'WALKING',\n",
       "       'LAYING', 'SITTING', 'LAYING', 'SITTING', 'SITTING', 'WALKING',\n",
       "       'SITTING', 'LAYING', 'LAYING', 'WALKING', 'SITTING', 'LAYING',\n",
       "       'LAYING', 'LAYING', 'SITTING', 'SITTING', 'SITTING', 'LAYING',\n",
       "       'LAYING', 'SITTING', 'WALKING', 'SITTING', 'LAYING', 'WALKING',\n",
       "       'LAYING', 'WALKING', 'SITTING', 'SITTING', 'WALKING', 'WALKING'],\n",
       "      dtype=object)"
      ]
     },
     "execution_count": 40,
     "metadata": {},
     "output_type": "execute_result"
    }
   ],
   "source": [
    "model4 = LogisticRegressionCV(cv=4,Cs=5,penalty='l2')\n",
    "model4.fit(X_train,y_train)\n",
    "y_pred2=model4.predict(X_test)\n",
    "y_pred2"
   ]
  },
  {
   "cell_type": "code",
   "execution_count": 41,
   "id": "297d0f1f",
   "metadata": {},
   "outputs": [
    {
     "data": {
      "text/plain": [
       "0.9977777777777778"
      ]
     },
     "execution_count": 41,
     "metadata": {},
     "output_type": "execute_result"
    }
   ],
   "source": [
    "accuracy_score(y_test,y_pred2)"
   ]
  },
  {
   "cell_type": "code",
   "execution_count": 42,
   "id": "f932bdfd",
   "metadata": {},
   "outputs": [
    {
     "name": "stdout",
     "output_type": "stream",
     "text": [
      "              precision    recall  f1-score   support\n",
      "\n",
      "      LAYING       1.00      1.00      1.00       148\n",
      "     SITTING       1.00      0.99      1.00       141\n",
      "     WALKING       0.99      1.00      1.00       161\n",
      "\n",
      "    accuracy                           1.00       450\n",
      "   macro avg       1.00      1.00      1.00       450\n",
      "weighted avg       1.00      1.00      1.00       450\n",
      "\n"
     ]
    }
   ],
   "source": [
    "print(classification_report(y_test,y_pred2))"
   ]
  },
  {
   "cell_type": "markdown",
   "id": "57389dc9",
   "metadata": {},
   "source": [
    "#### Step-7: [Build VotingClassifier]"
   ]
  },
  {
   "cell_type": "code",
   "execution_count": 43,
   "id": "76a4164a",
   "metadata": {},
   "outputs": [
    {
     "data": {
      "text/plain": [
       "VotingClassifier(estimators=[('lr', LogisticRegressionCV(Cs=5, cv=4)),\n",
       "                             ('gbc',\n",
       "                              GridSearchCV(cv=5,\n",
       "                                           estimator=GradientBoostingClassifier(learning_rate=1.0,\n",
       "                                                                                max_depth=10,\n",
       "                                                                                subsample=0.5),\n",
       "                                           n_jobs=-1,\n",
       "                                           param_grid={'learning_rate': [0.1,\n",
       "                                                                         0.01],\n",
       "                                                       'n_estimators': [50, 100,\n",
       "                                                                        200,\n",
       "                                                                        400]}))])"
      ]
     },
     "execution_count": 43,
     "metadata": {},
     "output_type": "execute_result"
    }
   ],
   "source": [
    "model4=VotingClassifier(estimators=[('lr',model4),('gbc',model1)], voting='hard')\n",
    "model4.fit(X_train,y_train)"
   ]
  },
  {
   "cell_type": "code",
   "execution_count": 44,
   "id": "88d29716",
   "metadata": {
    "scrolled": true
   },
   "outputs": [
    {
     "data": {
      "text/plain": [
       "array(['WALKING', 'WALKING', 'LAYING', 'LAYING', 'LAYING', 'SITTING',\n",
       "       'WALKING', 'SITTING', 'WALKING', 'LAYING', 'SITTING', 'WALKING',\n",
       "       'SITTING', 'WALKING', 'LAYING', 'WALKING', 'WALKING', 'SITTING',\n",
       "       'LAYING', 'LAYING', 'WALKING', 'WALKING', 'WALKING', 'WALKING',\n",
       "       'WALKING', 'LAYING', 'WALKING', 'WALKING', 'WALKING', 'WALKING',\n",
       "       'WALKING', 'SITTING', 'WALKING', 'WALKING', 'LAYING', 'LAYING',\n",
       "       'LAYING', 'LAYING', 'WALKING', 'LAYING', 'WALKING', 'LAYING',\n",
       "       'WALKING', 'SITTING', 'WALKING', 'LAYING', 'LAYING', 'LAYING',\n",
       "       'SITTING', 'SITTING', 'SITTING', 'SITTING', 'WALKING', 'WALKING',\n",
       "       'SITTING', 'SITTING', 'LAYING', 'LAYING', 'LAYING', 'SITTING',\n",
       "       'SITTING', 'SITTING', 'LAYING', 'LAYING', 'SITTING', 'LAYING',\n",
       "       'LAYING', 'WALKING', 'WALKING', 'LAYING', 'LAYING', 'SITTING',\n",
       "       'SITTING', 'LAYING', 'SITTING', 'WALKING', 'SITTING', 'SITTING',\n",
       "       'LAYING', 'SITTING', 'WALKING', 'LAYING', 'LAYING', 'SITTING',\n",
       "       'SITTING', 'LAYING', 'SITTING', 'SITTING', 'SITTING', 'SITTING',\n",
       "       'WALKING', 'LAYING', 'LAYING', 'WALKING', 'WALKING', 'LAYING',\n",
       "       'LAYING', 'LAYING', 'WALKING', 'LAYING', 'SITTING', 'SITTING',\n",
       "       'WALKING', 'WALKING', 'LAYING', 'LAYING', 'LAYING', 'WALKING',\n",
       "       'LAYING', 'SITTING', 'LAYING', 'WALKING', 'SITTING', 'LAYING',\n",
       "       'LAYING', 'LAYING', 'SITTING', 'LAYING', 'LAYING', 'WALKING',\n",
       "       'SITTING', 'WALKING', 'WALKING', 'LAYING', 'LAYING', 'WALKING',\n",
       "       'WALKING', 'SITTING', 'WALKING', 'LAYING', 'WALKING', 'LAYING',\n",
       "       'WALKING', 'WALKING', 'SITTING', 'LAYING', 'LAYING', 'LAYING',\n",
       "       'SITTING', 'LAYING', 'WALKING', 'LAYING', 'WALKING', 'LAYING',\n",
       "       'SITTING', 'WALKING', 'SITTING', 'WALKING', 'LAYING', 'SITTING',\n",
       "       'WALKING', 'WALKING', 'SITTING', 'WALKING', 'SITTING', 'WALKING',\n",
       "       'WALKING', 'LAYING', 'LAYING', 'LAYING', 'LAYING', 'LAYING',\n",
       "       'WALKING', 'WALKING', 'LAYING', 'LAYING', 'WALKING', 'WALKING',\n",
       "       'SITTING', 'LAYING', 'LAYING', 'WALKING', 'SITTING', 'SITTING',\n",
       "       'LAYING', 'LAYING', 'WALKING', 'SITTING', 'LAYING', 'WALKING',\n",
       "       'LAYING', 'SITTING', 'LAYING', 'LAYING', 'WALKING', 'SITTING',\n",
       "       'SITTING', 'LAYING', 'WALKING', 'WALKING', 'SITTING', 'SITTING',\n",
       "       'WALKING', 'WALKING', 'SITTING', 'LAYING', 'SITTING', 'LAYING',\n",
       "       'SITTING', 'LAYING', 'SITTING', 'SITTING', 'LAYING', 'LAYING',\n",
       "       'WALKING', 'SITTING', 'LAYING', 'SITTING', 'LAYING', 'SITTING',\n",
       "       'LAYING', 'WALKING', 'SITTING', 'WALKING', 'LAYING', 'LAYING',\n",
       "       'WALKING', 'LAYING', 'WALKING', 'LAYING', 'WALKING', 'SITTING',\n",
       "       'SITTING', 'SITTING', 'LAYING', 'LAYING', 'LAYING', 'LAYING',\n",
       "       'WALKING', 'WALKING', 'WALKING', 'LAYING', 'SITTING', 'WALKING',\n",
       "       'WALKING', 'WALKING', 'WALKING', 'WALKING', 'WALKING', 'WALKING',\n",
       "       'SITTING', 'WALKING', 'SITTING', 'LAYING', 'SITTING', 'SITTING',\n",
       "       'WALKING', 'WALKING', 'WALKING', 'SITTING', 'WALKING', 'LAYING',\n",
       "       'WALKING', 'SITTING', 'WALKING', 'SITTING', 'LAYING', 'SITTING',\n",
       "       'SITTING', 'WALKING', 'WALKING', 'LAYING', 'SITTING', 'SITTING',\n",
       "       'WALKING', 'WALKING', 'SITTING', 'LAYING', 'WALKING', 'SITTING',\n",
       "       'LAYING', 'LAYING', 'LAYING', 'WALKING', 'SITTING', 'WALKING',\n",
       "       'WALKING', 'WALKING', 'LAYING', 'WALKING', 'WALKING', 'WALKING',\n",
       "       'WALKING', 'SITTING', 'LAYING', 'SITTING', 'LAYING', 'WALKING',\n",
       "       'LAYING', 'WALKING', 'SITTING', 'WALKING', 'LAYING', 'WALKING',\n",
       "       'SITTING', 'SITTING', 'SITTING', 'WALKING', 'WALKING', 'SITTING',\n",
       "       'LAYING', 'SITTING', 'WALKING', 'WALKING', 'LAYING', 'LAYING',\n",
       "       'WALKING', 'WALKING', 'SITTING', 'LAYING', 'LAYING', 'WALKING',\n",
       "       'LAYING', 'SITTING', 'WALKING', 'SITTING', 'SITTING', 'SITTING',\n",
       "       'LAYING', 'WALKING', 'SITTING', 'WALKING', 'SITTING', 'SITTING',\n",
       "       'SITTING', 'WALKING', 'LAYING', 'WALKING', 'LAYING', 'LAYING',\n",
       "       'WALKING', 'SITTING', 'WALKING', 'SITTING', 'SITTING', 'WALKING',\n",
       "       'LAYING', 'LAYING', 'SITTING', 'SITTING', 'LAYING', 'SITTING',\n",
       "       'WALKING', 'WALKING', 'WALKING', 'SITTING', 'LAYING', 'SITTING',\n",
       "       'LAYING', 'WALKING', 'LAYING', 'SITTING', 'LAYING', 'WALKING',\n",
       "       'SITTING', 'SITTING', 'SITTING', 'SITTING', 'SITTING', 'LAYING',\n",
       "       'SITTING', 'SITTING', 'WALKING', 'WALKING', 'WALKING', 'SITTING',\n",
       "       'LAYING', 'SITTING', 'LAYING', 'WALKING', 'LAYING', 'WALKING',\n",
       "       'WALKING', 'SITTING', 'WALKING', 'SITTING', 'WALKING', 'WALKING',\n",
       "       'WALKING', 'LAYING', 'WALKING', 'WALKING', 'WALKING', 'SITTING',\n",
       "       'SITTING', 'LAYING', 'WALKING', 'WALKING', 'LAYING', 'WALKING',\n",
       "       'SITTING', 'SITTING', 'WALKING', 'SITTING', 'WALKING', 'SITTING',\n",
       "       'LAYING', 'WALKING', 'WALKING', 'SITTING', 'SITTING', 'LAYING',\n",
       "       'WALKING', 'WALKING', 'LAYING', 'SITTING', 'LAYING', 'LAYING',\n",
       "       'LAYING', 'WALKING', 'WALKING', 'LAYING', 'SITTING', 'LAYING',\n",
       "       'SITTING', 'SITTING', 'LAYING', 'WALKING', 'SITTING', 'WALKING',\n",
       "       'LAYING', 'SITTING', 'LAYING', 'SITTING', 'SITTING', 'WALKING',\n",
       "       'SITTING', 'LAYING', 'LAYING', 'WALKING', 'SITTING', 'LAYING',\n",
       "       'LAYING', 'LAYING', 'SITTING', 'SITTING', 'SITTING', 'LAYING',\n",
       "       'LAYING', 'SITTING', 'WALKING', 'SITTING', 'LAYING', 'WALKING',\n",
       "       'LAYING', 'WALKING', 'SITTING', 'SITTING', 'WALKING', 'WALKING'],\n",
       "      dtype=object)"
      ]
     },
     "execution_count": 44,
     "metadata": {},
     "output_type": "execute_result"
    }
   ],
   "source": [
    "y_pred3=model4.predict(X_test)\n",
    "y_pred3"
   ]
  },
  {
   "cell_type": "code",
   "execution_count": 45,
   "id": "69dd27e8",
   "metadata": {},
   "outputs": [
    {
     "data": {
      "text/plain": [
       "1.0"
      ]
     },
     "execution_count": 45,
     "metadata": {},
     "output_type": "execute_result"
    }
   ],
   "source": [
    "accuracy_score(y_test,y_pred3)"
   ]
  },
  {
   "cell_type": "code",
   "execution_count": 46,
   "id": "d66df8c1",
   "metadata": {},
   "outputs": [
    {
     "name": "stdout",
     "output_type": "stream",
     "text": [
      "              precision    recall  f1-score   support\n",
      "\n",
      "      LAYING       1.00      1.00      1.00       148\n",
      "     SITTING       1.00      1.00      1.00       141\n",
      "     WALKING       1.00      1.00      1.00       161\n",
      "\n",
      "    accuracy                           1.00       450\n",
      "   macro avg       1.00      1.00      1.00       450\n",
      "weighted avg       1.00      1.00      1.00       450\n",
      "\n"
     ]
    }
   ],
   "source": [
    "print(classification_report(y_test,y_pred3))"
   ]
  },
  {
   "cell_type": "markdown",
   "id": "0904f944",
   "metadata": {},
   "source": [
    "#### Step-8: [Interpret your results]"
   ]
  },
  {
   "cell_type": "code",
   "execution_count": 47,
   "id": "b2bad2c1",
   "metadata": {},
   "outputs": [
    {
     "name": "stdout",
     "output_type": "stream",
     "text": [
      "GradientBoostingClassifier(max_depth=10, n_estimators=50, subsample=0.5)\n"
     ]
    }
   ],
   "source": [
    "print(model1.best_estimator_)"
   ]
  },
  {
   "cell_type": "code",
   "execution_count": 48,
   "id": "be3690d8",
   "metadata": {},
   "outputs": [
    {
     "name": "stdout",
     "output_type": "stream",
     "text": [
      "AdaBoostClassifier(base_estimator=DecisionTreeClassifier(max_features=4),\n",
      "                   learning_rate=0.01, n_estimators=100, random_state=0)\n"
     ]
    }
   ],
   "source": [
    "print(model3.best_estimator_)"
   ]
  },
  {
   "cell_type": "markdown",
   "id": "07963401",
   "metadata": {},
   "source": [
    "#### GradientBoostingClassifier"
   ]
  },
  {
   "cell_type": "code",
   "execution_count": 49,
   "id": "26772bce",
   "metadata": {},
   "outputs": [
    {
     "data": {
      "text/plain": [
       "GridSearchCV(cv=5,\n",
       "             estimator=GradientBoostingClassifier(max_features=4,\n",
       "                                                  n_estimators=50),\n",
       "             n_jobs=-1,\n",
       "             param_grid={'learning_rate': [0.1, 0.01],\n",
       "                         'n_estimators': [50, 100, 200, 400]})"
      ]
     },
     "execution_count": 49,
     "metadata": {},
     "output_type": "execute_result"
    }
   ],
   "source": [
    "classifierF = GradientBoostingClassifier(n_estimators=50,max_features=4)\n",
    "all_scoresF = cross_val_score(estimator=classifierF, X=X_train, y=y_train, cv=5)\n",
    "parameter = {'n_estimators': [50, 100, 200, 400], 'learning_rate': [0.1, 0.01]}\n",
    "modelGB = GridSearchCV(estimator=classifierF,param_grid=parameter,cv=5,n_jobs=-1)\n",
    "modelGB.fit(X_train,y_train)"
   ]
  },
  {
   "cell_type": "code",
   "execution_count": 50,
   "id": "314ca1f1",
   "metadata": {
    "scrolled": true
   },
   "outputs": [
    {
     "data": {
      "text/plain": [
       "array(['WALKING', 'WALKING', 'LAYING', 'LAYING', 'SITTING', 'SITTING',\n",
       "       'WALKING', 'SITTING', 'WALKING', 'LAYING', 'LAYING', 'WALKING',\n",
       "       'SITTING', 'SITTING', 'LAYING', 'WALKING', 'WALKING', 'SITTING',\n",
       "       'LAYING', 'LAYING', 'WALKING', 'WALKING', 'WALKING', 'WALKING',\n",
       "       'WALKING', 'LAYING', 'WALKING', 'WALKING', 'WALKING', 'WALKING',\n",
       "       'WALKING', 'LAYING', 'WALKING', 'WALKING', 'LAYING', 'SITTING',\n",
       "       'LAYING', 'LAYING', 'WALKING', 'SITTING', 'WALKING', 'SITTING',\n",
       "       'WALKING', 'SITTING', 'WALKING', 'LAYING', 'LAYING', 'LAYING',\n",
       "       'LAYING', 'SITTING', 'LAYING', 'SITTING', 'WALKING', 'WALKING',\n",
       "       'SITTING', 'LAYING', 'SITTING', 'LAYING', 'SITTING', 'SITTING',\n",
       "       'SITTING', 'SITTING', 'LAYING', 'LAYING', 'SITTING', 'SITTING',\n",
       "       'LAYING', 'WALKING', 'WALKING', 'LAYING', 'LAYING', 'SITTING',\n",
       "       'SITTING', 'LAYING', 'SITTING', 'WALKING', 'SITTING', 'SITTING',\n",
       "       'SITTING', 'LAYING', 'WALKING', 'LAYING', 'LAYING', 'SITTING',\n",
       "       'LAYING', 'LAYING', 'SITTING', 'SITTING', 'SITTING', 'LAYING',\n",
       "       'WALKING', 'LAYING', 'LAYING', 'WALKING', 'WALKING', 'SITTING',\n",
       "       'LAYING', 'LAYING', 'WALKING', 'LAYING', 'SITTING', 'SITTING',\n",
       "       'WALKING', 'WALKING', 'LAYING', 'LAYING', 'LAYING', 'WALKING',\n",
       "       'LAYING', 'SITTING', 'LAYING', 'WALKING', 'SITTING', 'LAYING',\n",
       "       'LAYING', 'LAYING', 'SITTING', 'LAYING', 'LAYING', 'WALKING',\n",
       "       'LAYING', 'WALKING', 'WALKING', 'LAYING', 'LAYING', 'WALKING',\n",
       "       'WALKING', 'SITTING', 'WALKING', 'LAYING', 'WALKING', 'LAYING',\n",
       "       'WALKING', 'WALKING', 'SITTING', 'LAYING', 'SITTING', 'SITTING',\n",
       "       'SITTING', 'LAYING', 'WALKING', 'LAYING', 'WALKING', 'LAYING',\n",
       "       'LAYING', 'WALKING', 'SITTING', 'WALKING', 'LAYING', 'SITTING',\n",
       "       'WALKING', 'WALKING', 'SITTING', 'WALKING', 'SITTING', 'WALKING',\n",
       "       'WALKING', 'LAYING', 'SITTING', 'LAYING', 'LAYING', 'LAYING',\n",
       "       'WALKING', 'WALKING', 'LAYING', 'LAYING', 'WALKING', 'WALKING',\n",
       "       'SITTING', 'LAYING', 'LAYING', 'WALKING', 'SITTING', 'SITTING',\n",
       "       'LAYING', 'LAYING', 'WALKING', 'SITTING', 'LAYING', 'WALKING',\n",
       "       'LAYING', 'LAYING', 'LAYING', 'LAYING', 'WALKING', 'SITTING',\n",
       "       'SITTING', 'LAYING', 'WALKING', 'WALKING', 'SITTING', 'SITTING',\n",
       "       'WALKING', 'WALKING', 'SITTING', 'LAYING', 'SITTING', 'LAYING',\n",
       "       'SITTING', 'LAYING', 'SITTING', 'SITTING', 'LAYING', 'LAYING',\n",
       "       'WALKING', 'LAYING', 'LAYING', 'SITTING', 'SITTING', 'SITTING',\n",
       "       'LAYING', 'WALKING', 'SITTING', 'WALKING', 'LAYING', 'LAYING',\n",
       "       'WALKING', 'LAYING', 'WALKING', 'LAYING', 'WALKING', 'SITTING',\n",
       "       'SITTING', 'SITTING', 'LAYING', 'SITTING', 'LAYING', 'LAYING',\n",
       "       'WALKING', 'WALKING', 'WALKING', 'LAYING', 'SITTING', 'WALKING',\n",
       "       'WALKING', 'WALKING', 'WALKING', 'WALKING', 'WALKING', 'WALKING',\n",
       "       'SITTING', 'WALKING', 'SITTING', 'LAYING', 'SITTING', 'SITTING',\n",
       "       'WALKING', 'WALKING', 'WALKING', 'SITTING', 'WALKING', 'LAYING',\n",
       "       'WALKING', 'LAYING', 'WALKING', 'SITTING', 'SITTING', 'SITTING',\n",
       "       'SITTING', 'WALKING', 'WALKING', 'LAYING', 'SITTING', 'SITTING',\n",
       "       'WALKING', 'WALKING', 'SITTING', 'LAYING', 'WALKING', 'SITTING',\n",
       "       'LAYING', 'LAYING', 'LAYING', 'WALKING', 'SITTING', 'WALKING',\n",
       "       'WALKING', 'WALKING', 'LAYING', 'WALKING', 'WALKING', 'WALKING',\n",
       "       'WALKING', 'SITTING', 'LAYING', 'SITTING', 'LAYING', 'WALKING',\n",
       "       'SITTING', 'WALKING', 'SITTING', 'WALKING', 'LAYING', 'WALKING',\n",
       "       'SITTING', 'SITTING', 'LAYING', 'WALKING', 'WALKING', 'LAYING',\n",
       "       'LAYING', 'SITTING', 'WALKING', 'WALKING', 'LAYING', 'LAYING',\n",
       "       'WALKING', 'WALKING', 'LAYING', 'LAYING', 'LAYING', 'WALKING',\n",
       "       'LAYING', 'SITTING', 'LAYING', 'SITTING', 'SITTING', 'SITTING',\n",
       "       'LAYING', 'WALKING', 'SITTING', 'WALKING', 'SITTING', 'LAYING',\n",
       "       'SITTING', 'WALKING', 'LAYING', 'WALKING', 'LAYING', 'LAYING',\n",
       "       'WALKING', 'SITTING', 'WALKING', 'SITTING', 'SITTING', 'WALKING',\n",
       "       'LAYING', 'LAYING', 'SITTING', 'SITTING', 'SITTING', 'SITTING',\n",
       "       'WALKING', 'WALKING', 'WALKING', 'SITTING', 'LAYING', 'SITTING',\n",
       "       'LAYING', 'WALKING', 'LAYING', 'SITTING', 'LAYING', 'WALKING',\n",
       "       'SITTING', 'SITTING', 'SITTING', 'SITTING', 'SITTING', 'LAYING',\n",
       "       'SITTING', 'SITTING', 'WALKING', 'WALKING', 'WALKING', 'SITTING',\n",
       "       'LAYING', 'SITTING', 'LAYING', 'WALKING', 'LAYING', 'WALKING',\n",
       "       'WALKING', 'SITTING', 'WALKING', 'SITTING', 'WALKING', 'WALKING',\n",
       "       'WALKING', 'LAYING', 'WALKING', 'WALKING', 'WALKING', 'SITTING',\n",
       "       'SITTING', 'LAYING', 'WALKING', 'WALKING', 'LAYING', 'WALKING',\n",
       "       'SITTING', 'LAYING', 'WALKING', 'LAYING', 'WALKING', 'SITTING',\n",
       "       'SITTING', 'WALKING', 'WALKING', 'SITTING', 'SITTING', 'LAYING',\n",
       "       'WALKING', 'WALKING', 'LAYING', 'LAYING', 'LAYING', 'LAYING',\n",
       "       'LAYING', 'WALKING', 'WALKING', 'LAYING', 'SITTING', 'LAYING',\n",
       "       'SITTING', 'SITTING', 'LAYING', 'WALKING', 'SITTING', 'WALKING',\n",
       "       'LAYING', 'LAYING', 'LAYING', 'SITTING', 'LAYING', 'WALKING',\n",
       "       'SITTING', 'LAYING', 'LAYING', 'WALKING', 'SITTING', 'SITTING',\n",
       "       'SITTING', 'LAYING', 'SITTING', 'SITTING', 'LAYING', 'LAYING',\n",
       "       'LAYING', 'SITTING', 'WALKING', 'SITTING', 'LAYING', 'WALKING',\n",
       "       'LAYING', 'WALKING', 'SITTING', 'SITTING', 'WALKING', 'WALKING'],\n",
       "      dtype=object)"
      ]
     },
     "execution_count": 50,
     "metadata": {},
     "output_type": "execute_result"
    }
   ],
   "source": [
    "y_predGB=model3.predict(X_test)\n",
    "y_predGB"
   ]
  },
  {
   "cell_type": "code",
   "execution_count": 51,
   "id": "b13cdde2",
   "metadata": {},
   "outputs": [
    {
     "data": {
      "text/plain": [
       "0.9"
      ]
     },
     "execution_count": 51,
     "metadata": {},
     "output_type": "execute_result"
    }
   ],
   "source": [
    "accuracy_score(y_test,y_predGB)"
   ]
  },
  {
   "cell_type": "code",
   "execution_count": 52,
   "id": "fea2e0d3",
   "metadata": {},
   "outputs": [
    {
     "name": "stdout",
     "output_type": "stream",
     "text": [
      "              precision    recall  f1-score   support\n",
      "\n",
      "      LAYING       0.84      0.86      0.85       148\n",
      "     SITTING       0.85      0.84      0.84       141\n",
      "     WALKING       1.00      0.99      0.99       161\n",
      "\n",
      "    accuracy                           0.90       450\n",
      "   macro avg       0.90      0.90      0.90       450\n",
      "weighted avg       0.90      0.90      0.90       450\n",
      "\n"
     ]
    }
   ],
   "source": [
    "print(classification_report(y_test,y_predGB))"
   ]
  },
  {
   "cell_type": "markdown",
   "id": "5e499045",
   "metadata": {},
   "source": [
    "#### AdaBoostClassifier"
   ]
  },
  {
   "cell_type": "code",
   "execution_count": 53,
   "id": "79831f1f",
   "metadata": {},
   "outputs": [
    {
     "data": {
      "text/plain": [
       "GridSearchCV(cv=5,\n",
       "             estimator=AdaBoostClassifier(base_estimator=DecisionTreeClassifier(),\n",
       "                                          learning_rate=0.01, n_estimators=100,\n",
       "                                          random_state=0),\n",
       "             n_jobs=-1,\n",
       "             param_grid={'learning_rate': [0.01, 0.001],\n",
       "                         'n_estimators': [100, 150, 200]})"
      ]
     },
     "execution_count": 53,
     "metadata": {},
     "output_type": "execute_result"
    }
   ],
   "source": [
    "modelABC = AdaBoostClassifier(base_estimator=DecisionTreeClassifier(),\n",
    "learning_rate=0.01,\n",
    "n_estimators=100,\n",
    "random_state=0)\n",
    "param_grid = {'n_estimators': [100, 150, 200], 'learning_rate': [0.01, 0.001]}\n",
    "modelGSCV = GridSearchCV(modelABC,param_grid,cv=5,n_jobs=-1)\n",
    "modelGSCV.fit(X_train,y_train)"
   ]
  },
  {
   "cell_type": "code",
   "execution_count": 54,
   "id": "208efc38",
   "metadata": {
    "scrolled": true
   },
   "outputs": [
    {
     "data": {
      "text/plain": [
       "array(['WALKING', 'WALKING', 'LAYING', 'LAYING', 'SITTING', 'SITTING',\n",
       "       'WALKING', 'SITTING', 'WALKING', 'LAYING', 'LAYING', 'WALKING',\n",
       "       'SITTING', 'SITTING', 'LAYING', 'WALKING', 'WALKING', 'SITTING',\n",
       "       'LAYING', 'LAYING', 'WALKING', 'WALKING', 'WALKING', 'WALKING',\n",
       "       'WALKING', 'LAYING', 'WALKING', 'WALKING', 'WALKING', 'WALKING',\n",
       "       'WALKING', 'LAYING', 'WALKING', 'WALKING', 'LAYING', 'SITTING',\n",
       "       'LAYING', 'LAYING', 'WALKING', 'SITTING', 'WALKING', 'SITTING',\n",
       "       'WALKING', 'SITTING', 'WALKING', 'LAYING', 'LAYING', 'LAYING',\n",
       "       'LAYING', 'SITTING', 'LAYING', 'SITTING', 'WALKING', 'WALKING',\n",
       "       'SITTING', 'LAYING', 'SITTING', 'LAYING', 'SITTING', 'SITTING',\n",
       "       'SITTING', 'SITTING', 'LAYING', 'LAYING', 'SITTING', 'SITTING',\n",
       "       'LAYING', 'WALKING', 'WALKING', 'LAYING', 'LAYING', 'SITTING',\n",
       "       'SITTING', 'LAYING', 'SITTING', 'WALKING', 'SITTING', 'SITTING',\n",
       "       'SITTING', 'LAYING', 'WALKING', 'LAYING', 'LAYING', 'SITTING',\n",
       "       'LAYING', 'LAYING', 'SITTING', 'SITTING', 'SITTING', 'LAYING',\n",
       "       'WALKING', 'LAYING', 'LAYING', 'WALKING', 'WALKING', 'SITTING',\n",
       "       'LAYING', 'LAYING', 'WALKING', 'LAYING', 'SITTING', 'SITTING',\n",
       "       'WALKING', 'WALKING', 'LAYING', 'LAYING', 'LAYING', 'WALKING',\n",
       "       'LAYING', 'SITTING', 'LAYING', 'WALKING', 'SITTING', 'LAYING',\n",
       "       'LAYING', 'LAYING', 'SITTING', 'LAYING', 'LAYING', 'WALKING',\n",
       "       'LAYING', 'WALKING', 'WALKING', 'LAYING', 'LAYING', 'WALKING',\n",
       "       'WALKING', 'SITTING', 'WALKING', 'LAYING', 'WALKING', 'LAYING',\n",
       "       'WALKING', 'WALKING', 'SITTING', 'LAYING', 'SITTING', 'SITTING',\n",
       "       'SITTING', 'LAYING', 'WALKING', 'LAYING', 'WALKING', 'LAYING',\n",
       "       'LAYING', 'WALKING', 'SITTING', 'WALKING', 'LAYING', 'SITTING',\n",
       "       'WALKING', 'WALKING', 'SITTING', 'WALKING', 'SITTING', 'WALKING',\n",
       "       'WALKING', 'LAYING', 'SITTING', 'LAYING', 'LAYING', 'LAYING',\n",
       "       'WALKING', 'WALKING', 'LAYING', 'LAYING', 'WALKING', 'WALKING',\n",
       "       'SITTING', 'LAYING', 'LAYING', 'WALKING', 'SITTING', 'SITTING',\n",
       "       'LAYING', 'LAYING', 'WALKING', 'SITTING', 'LAYING', 'WALKING',\n",
       "       'LAYING', 'LAYING', 'LAYING', 'LAYING', 'WALKING', 'SITTING',\n",
       "       'SITTING', 'LAYING', 'WALKING', 'WALKING', 'SITTING', 'SITTING',\n",
       "       'WALKING', 'WALKING', 'SITTING', 'LAYING', 'SITTING', 'LAYING',\n",
       "       'SITTING', 'LAYING', 'SITTING', 'SITTING', 'LAYING', 'LAYING',\n",
       "       'WALKING', 'LAYING', 'LAYING', 'SITTING', 'SITTING', 'SITTING',\n",
       "       'LAYING', 'WALKING', 'SITTING', 'WALKING', 'LAYING', 'LAYING',\n",
       "       'WALKING', 'LAYING', 'WALKING', 'LAYING', 'WALKING', 'SITTING',\n",
       "       'SITTING', 'SITTING', 'LAYING', 'SITTING', 'LAYING', 'LAYING',\n",
       "       'WALKING', 'WALKING', 'WALKING', 'LAYING', 'SITTING', 'WALKING',\n",
       "       'WALKING', 'WALKING', 'WALKING', 'WALKING', 'WALKING', 'WALKING',\n",
       "       'SITTING', 'WALKING', 'SITTING', 'LAYING', 'SITTING', 'SITTING',\n",
       "       'WALKING', 'WALKING', 'WALKING', 'SITTING', 'WALKING', 'LAYING',\n",
       "       'WALKING', 'LAYING', 'WALKING', 'SITTING', 'SITTING', 'SITTING',\n",
       "       'SITTING', 'WALKING', 'WALKING', 'LAYING', 'SITTING', 'SITTING',\n",
       "       'WALKING', 'WALKING', 'SITTING', 'LAYING', 'WALKING', 'SITTING',\n",
       "       'LAYING', 'LAYING', 'LAYING', 'WALKING', 'SITTING', 'WALKING',\n",
       "       'WALKING', 'WALKING', 'LAYING', 'WALKING', 'WALKING', 'WALKING',\n",
       "       'WALKING', 'SITTING', 'LAYING', 'SITTING', 'LAYING', 'WALKING',\n",
       "       'SITTING', 'WALKING', 'SITTING', 'WALKING', 'LAYING', 'WALKING',\n",
       "       'SITTING', 'SITTING', 'LAYING', 'WALKING', 'WALKING', 'LAYING',\n",
       "       'LAYING', 'SITTING', 'WALKING', 'WALKING', 'LAYING', 'LAYING',\n",
       "       'WALKING', 'WALKING', 'LAYING', 'LAYING', 'LAYING', 'WALKING',\n",
       "       'LAYING', 'SITTING', 'LAYING', 'SITTING', 'SITTING', 'SITTING',\n",
       "       'LAYING', 'WALKING', 'SITTING', 'WALKING', 'SITTING', 'LAYING',\n",
       "       'SITTING', 'WALKING', 'LAYING', 'WALKING', 'LAYING', 'LAYING',\n",
       "       'WALKING', 'SITTING', 'WALKING', 'SITTING', 'SITTING', 'WALKING',\n",
       "       'LAYING', 'LAYING', 'SITTING', 'SITTING', 'SITTING', 'SITTING',\n",
       "       'WALKING', 'WALKING', 'WALKING', 'SITTING', 'LAYING', 'SITTING',\n",
       "       'LAYING', 'WALKING', 'LAYING', 'SITTING', 'LAYING', 'WALKING',\n",
       "       'SITTING', 'SITTING', 'SITTING', 'SITTING', 'SITTING', 'LAYING',\n",
       "       'SITTING', 'SITTING', 'WALKING', 'WALKING', 'WALKING', 'SITTING',\n",
       "       'LAYING', 'SITTING', 'LAYING', 'WALKING', 'LAYING', 'WALKING',\n",
       "       'WALKING', 'SITTING', 'WALKING', 'SITTING', 'WALKING', 'WALKING',\n",
       "       'WALKING', 'LAYING', 'WALKING', 'WALKING', 'WALKING', 'SITTING',\n",
       "       'SITTING', 'LAYING', 'WALKING', 'WALKING', 'LAYING', 'WALKING',\n",
       "       'SITTING', 'LAYING', 'WALKING', 'LAYING', 'WALKING', 'SITTING',\n",
       "       'SITTING', 'WALKING', 'WALKING', 'SITTING', 'SITTING', 'LAYING',\n",
       "       'WALKING', 'WALKING', 'LAYING', 'LAYING', 'LAYING', 'LAYING',\n",
       "       'LAYING', 'WALKING', 'WALKING', 'LAYING', 'SITTING', 'LAYING',\n",
       "       'SITTING', 'SITTING', 'LAYING', 'WALKING', 'SITTING', 'WALKING',\n",
       "       'LAYING', 'LAYING', 'LAYING', 'SITTING', 'LAYING', 'WALKING',\n",
       "       'SITTING', 'LAYING', 'LAYING', 'WALKING', 'SITTING', 'SITTING',\n",
       "       'SITTING', 'LAYING', 'SITTING', 'SITTING', 'LAYING', 'LAYING',\n",
       "       'LAYING', 'SITTING', 'WALKING', 'SITTING', 'LAYING', 'WALKING',\n",
       "       'LAYING', 'WALKING', 'SITTING', 'SITTING', 'WALKING', 'WALKING'],\n",
       "      dtype=object)"
      ]
     },
     "execution_count": 54,
     "metadata": {},
     "output_type": "execute_result"
    }
   ],
   "source": [
    "y_predGSCV=model3.predict(X_test)\n",
    "y_predGSCV"
   ]
  },
  {
   "cell_type": "code",
   "execution_count": 55,
   "id": "66449ea4",
   "metadata": {},
   "outputs": [
    {
     "data": {
      "text/plain": [
       "0.9"
      ]
     },
     "execution_count": 55,
     "metadata": {},
     "output_type": "execute_result"
    }
   ],
   "source": [
    "accuracy_score(y_test,y_predGSCV)"
   ]
  },
  {
   "cell_type": "code",
   "execution_count": 56,
   "id": "937cd10b",
   "metadata": {},
   "outputs": [
    {
     "name": "stdout",
     "output_type": "stream",
     "text": [
      "              precision    recall  f1-score   support\n",
      "\n",
      "      LAYING       0.84      0.86      0.85       148\n",
      "     SITTING       0.85      0.84      0.84       141\n",
      "     WALKING       1.00      0.99      0.99       161\n",
      "\n",
      "    accuracy                           0.90       450\n",
      "   macro avg       0.90      0.90      0.90       450\n",
      "weighted avg       0.90      0.90      0.90       450\n",
      "\n"
     ]
    }
   ],
   "source": [
    "print(classification_report(y_test,y_predGSCV))"
   ]
  },
  {
   "cell_type": "code",
   "execution_count": null,
   "id": "dcde9210",
   "metadata": {},
   "outputs": [],
   "source": []
  }
 ],
 "metadata": {
  "kernelspec": {
   "display_name": "Python 3 (ipykernel)",
   "language": "python",
   "name": "python3"
  },
  "language_info": {
   "codemirror_mode": {
    "name": "ipython",
    "version": 3
   },
   "file_extension": ".py",
   "mimetype": "text/x-python",
   "name": "python",
   "nbconvert_exporter": "python",
   "pygments_lexer": "ipython3",
   "version": "3.9.12"
  }
 },
 "nbformat": 4,
 "nbformat_minor": 5
}
